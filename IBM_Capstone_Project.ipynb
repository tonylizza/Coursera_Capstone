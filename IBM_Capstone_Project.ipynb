{
  "nbformat": 4,
  "nbformat_minor": 0,
  "metadata": {
    "colab": {
      "name": "IBM_Capstone_Project.ipynb",
      "provenance": []
    },
    "kernelspec": {
      "name": "python3",
      "display_name": "Python 3"
    }
  },
  "cells": [
    {
      "cell_type": "markdown",
      "metadata": {
        "id": "xSY1KsfSnezj",
        "colab_type": "text"
      },
      "source": [
        "#### Table of Contents\n",
        "[Problem Description and Discussion of Background](#problem)  \n",
        "[Data Description](#data_descr)"
      ]
    },
    {
      "cell_type": "markdown",
      "metadata": {
        "id": "egsyiFqtQg3V",
        "colab_type": "text"
      },
      "source": [
        "# <a name=\"problem\">Problem Description and Discussion of Background</a>\n",
        "One of the major contributors to traffic delays are serious car accidents that require transporting of injured and/or clearing of wreckage. The business value we are attempting to provide is to answer the question \"What is the best way to predict (and therefore avoid) serious car accidents when driving?\" The goal of this exercise is to predict the severity of a given road collision when provided with certain details regarding the accident (e.g., weather and the road conditions) to allow drivers to drive more carefully or modify their travel plans in response to avoid encountering accidents."
      ]
    },
    {
      "cell_type": "markdown",
      "metadata": {
        "id": "1k5aVj_J8ojO",
        "colab_type": "text"
      },
      "source": [
        "# <a name=\"data_desc\">Data Description</a>\n",
        "\n",
        "To answer the above question, data will be needed regarding traffic accidents in a particular area. Such data will necessarily contain details about the accident, as well as an indication of whether or not the accident was serious. The data we are using for our analysis consists of tabular data of road collisions and their details from the Seattle, WA area collected between 01-01-2004 and 05-20-2020. The data includes location (lat, long, and address), type of collision, number involved (for persons, pedestrians, cyclists, and vehicles), incident date, whether the driver was inattentive, whether the driver was under the influence, and whether the driver was speeding. This data will be analyzed and formatted for the creation of a model. If necessary, additional features will be engineered for the creation of a successful model."
      ]
    },
    {
      "cell_type": "code",
      "metadata": {
        "id": "ngyaBV0cH7Gk",
        "colab_type": "code",
        "colab": {
          "base_uri": "https://localhost:8080/",
          "height": 35
        },
        "outputId": "9abf906d-b152-49f9-ddb8-a0594356be1d"
      },
      "source": [
        "import numpy as np\n",
        "import pandas as pd\n",
        "\n",
        "print('Hello Capstone Project Course!')\n"
      ],
      "execution_count": null,
      "outputs": [
        {
          "output_type": "stream",
          "text": [
            "Hello Capstone Project Course!\n"
          ],
          "name": "stdout"
        }
      ]
    }
  ]
}