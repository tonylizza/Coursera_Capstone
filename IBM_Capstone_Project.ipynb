{
  "nbformat": 4,
  "nbformat_minor": 0,
  "metadata": {
    "colab": {
      "name": "IBM_Capstone_Project.ipynb",
      "provenance": [],
      "collapsed_sections": []
    },
    "kernelspec": {
      "name": "python3",
      "display_name": "Python 3"
    }
  },
  "cells": [
    {
      "cell_type": "code",
      "metadata": {
        "id": "ngyaBV0cH7Gk",
        "colab_type": "code",
        "colab": {
          "base_uri": "https://localhost:8080/",
          "height": 72
        },
        "outputId": "dd230f87-0e1f-4786-b40a-e6c65b92baf8"
      },
      "source": [
        "import pandas as pd\n",
        "import numpy as np\n",
        "import random as rnd\n",
        "\n",
        "import datetime\n",
        "\n",
        "# visualization\n",
        "import seaborn as sns\n",
        "import matplotlib.pyplot as plt\n",
        "\n",
        "# machine learning\n",
        "from sklearn.linear_model import LogisticRegression\n",
        "from sklearn.svm import SVC, LinearSVC\n",
        "from sklearn.ensemble import RandomForestClassifier\n",
        "from sklearn.neighbors import KNeighborsClassifier\n",
        "from sklearn.naive_bayes import GaussianNB\n",
        "from sklearn.linear_model import Perceptron\n",
        "from sklearn.linear_model import SGDClassifier\n",
        "from sklearn.tree import DecisionTreeClassifier\n",
        "\n",
        "from sklearn.metrics import confusion_matrix\n",
        "from sklearn.model_selection import train_test_split\n",
        "\n",
        "from scipy.stats import pearsonr\n",
        "\n",
        "from sklearn import metrics\n",
        "from sklearn import preprocessing\n",
        "from sklearn.metrics import f1_score\n",
        "from sklearn.metrics import jaccard_similarity_score"
      ],
      "execution_count": 1,
      "outputs": [
        {
          "output_type": "stream",
          "text": [
            "/usr/local/lib/python3.6/dist-packages/statsmodels/tools/_testing.py:19: FutureWarning: pandas.util.testing is deprecated. Use the functions in the public API at pandas.testing instead.\n",
            "  import pandas.util.testing as tm\n"
          ],
          "name": "stderr"
        }
      ]
    },
    {
      "cell_type": "markdown",
      "metadata": {
        "id": "jAEW_SPbXO4Q",
        "colab_type": "text"
      },
      "source": [
        "# Data Analysis  \n",
        "Let's take a look at the data."
      ]
    },
    {
      "cell_type": "code",
      "metadata": {
        "id": "tP9E0_rfW8sF",
        "colab_type": "code",
        "colab": {
          "base_uri": "https://localhost:8080/",
          "height": 742
        },
        "outputId": "c51d2fec-607b-47cc-f692-a3e955fde106"
      },
      "source": [
        "df = pd.read_csv('/content/drive/My Drive/Machine Learning Materials/Data-Collisions.csv')\n",
        "\n",
        "df.head()"
      ],
      "execution_count": 2,
      "outputs": [
        {
          "output_type": "stream",
          "text": [
            "/usr/local/lib/python3.6/dist-packages/IPython/core/interactiveshell.py:2718: DtypeWarning: Columns (33) have mixed types.Specify dtype option on import or set low_memory=False.\n",
            "  interactivity=interactivity, compiler=compiler, result=result)\n"
          ],
          "name": "stderr"
        },
        {
          "output_type": "execute_result",
          "data": {
            "text/html": [
              "<div>\n",
              "<style scoped>\n",
              "    .dataframe tbody tr th:only-of-type {\n",
              "        vertical-align: middle;\n",
              "    }\n",
              "\n",
              "    .dataframe tbody tr th {\n",
              "        vertical-align: top;\n",
              "    }\n",
              "\n",
              "    .dataframe thead th {\n",
              "        text-align: right;\n",
              "    }\n",
              "</style>\n",
              "<table border=\"1\" class=\"dataframe\">\n",
              "  <thead>\n",
              "    <tr style=\"text-align: right;\">\n",
              "      <th></th>\n",
              "      <th>SEVERITYCODE</th>\n",
              "      <th>X</th>\n",
              "      <th>Y</th>\n",
              "      <th>OBJECTID</th>\n",
              "      <th>INCKEY</th>\n",
              "      <th>COLDETKEY</th>\n",
              "      <th>REPORTNO</th>\n",
              "      <th>STATUS</th>\n",
              "      <th>ADDRTYPE</th>\n",
              "      <th>INTKEY</th>\n",
              "      <th>LOCATION</th>\n",
              "      <th>EXCEPTRSNCODE</th>\n",
              "      <th>EXCEPTRSNDESC</th>\n",
              "      <th>SEVERITYCODE.1</th>\n",
              "      <th>SEVERITYDESC</th>\n",
              "      <th>COLLISIONTYPE</th>\n",
              "      <th>PERSONCOUNT</th>\n",
              "      <th>PEDCOUNT</th>\n",
              "      <th>PEDCYLCOUNT</th>\n",
              "      <th>VEHCOUNT</th>\n",
              "      <th>INCDATE</th>\n",
              "      <th>INCDTTM</th>\n",
              "      <th>JUNCTIONTYPE</th>\n",
              "      <th>SDOT_COLCODE</th>\n",
              "      <th>SDOT_COLDESC</th>\n",
              "      <th>INATTENTIONIND</th>\n",
              "      <th>UNDERINFL</th>\n",
              "      <th>WEATHER</th>\n",
              "      <th>ROADCOND</th>\n",
              "      <th>LIGHTCOND</th>\n",
              "      <th>PEDROWNOTGRNT</th>\n",
              "      <th>SDOTCOLNUM</th>\n",
              "      <th>SPEEDING</th>\n",
              "      <th>ST_COLCODE</th>\n",
              "      <th>ST_COLDESC</th>\n",
              "      <th>SEGLANEKEY</th>\n",
              "      <th>CROSSWALKKEY</th>\n",
              "      <th>HITPARKEDCAR</th>\n",
              "    </tr>\n",
              "  </thead>\n",
              "  <tbody>\n",
              "    <tr>\n",
              "      <th>0</th>\n",
              "      <td>2</td>\n",
              "      <td>-122.323148</td>\n",
              "      <td>47.703140</td>\n",
              "      <td>1</td>\n",
              "      <td>1307</td>\n",
              "      <td>1307</td>\n",
              "      <td>3502005</td>\n",
              "      <td>Matched</td>\n",
              "      <td>Intersection</td>\n",
              "      <td>37475.0</td>\n",
              "      <td>5TH AVE NE AND NE 103RD ST</td>\n",
              "      <td></td>\n",
              "      <td>NaN</td>\n",
              "      <td>2</td>\n",
              "      <td>Injury Collision</td>\n",
              "      <td>Angles</td>\n",
              "      <td>2</td>\n",
              "      <td>0</td>\n",
              "      <td>0</td>\n",
              "      <td>2</td>\n",
              "      <td>2013/03/27 00:00:00+00</td>\n",
              "      <td>3/27/2013 2:54:00 PM</td>\n",
              "      <td>At Intersection (intersection related)</td>\n",
              "      <td>11</td>\n",
              "      <td>MOTOR VEHICLE STRUCK MOTOR VEHICLE, FRONT END ...</td>\n",
              "      <td>NaN</td>\n",
              "      <td>N</td>\n",
              "      <td>Overcast</td>\n",
              "      <td>Wet</td>\n",
              "      <td>Daylight</td>\n",
              "      <td>NaN</td>\n",
              "      <td>NaN</td>\n",
              "      <td>NaN</td>\n",
              "      <td>10</td>\n",
              "      <td>Entering at angle</td>\n",
              "      <td>0</td>\n",
              "      <td>0</td>\n",
              "      <td>N</td>\n",
              "    </tr>\n",
              "    <tr>\n",
              "      <th>1</th>\n",
              "      <td>1</td>\n",
              "      <td>-122.347294</td>\n",
              "      <td>47.647172</td>\n",
              "      <td>2</td>\n",
              "      <td>52200</td>\n",
              "      <td>52200</td>\n",
              "      <td>2607959</td>\n",
              "      <td>Matched</td>\n",
              "      <td>Block</td>\n",
              "      <td>NaN</td>\n",
              "      <td>AURORA BR BETWEEN RAYE ST AND BRIDGE WAY N</td>\n",
              "      <td>NaN</td>\n",
              "      <td>NaN</td>\n",
              "      <td>1</td>\n",
              "      <td>Property Damage Only Collision</td>\n",
              "      <td>Sideswipe</td>\n",
              "      <td>2</td>\n",
              "      <td>0</td>\n",
              "      <td>0</td>\n",
              "      <td>2</td>\n",
              "      <td>2006/12/20 00:00:00+00</td>\n",
              "      <td>12/20/2006 6:55:00 PM</td>\n",
              "      <td>Mid-Block (not related to intersection)</td>\n",
              "      <td>16</td>\n",
              "      <td>MOTOR VEHICLE STRUCK MOTOR VEHICLE, LEFT SIDE ...</td>\n",
              "      <td>NaN</td>\n",
              "      <td>0</td>\n",
              "      <td>Raining</td>\n",
              "      <td>Wet</td>\n",
              "      <td>Dark - Street Lights On</td>\n",
              "      <td>NaN</td>\n",
              "      <td>6354039.0</td>\n",
              "      <td>NaN</td>\n",
              "      <td>11</td>\n",
              "      <td>From same direction - both going straight - bo...</td>\n",
              "      <td>0</td>\n",
              "      <td>0</td>\n",
              "      <td>N</td>\n",
              "    </tr>\n",
              "    <tr>\n",
              "      <th>2</th>\n",
              "      <td>1</td>\n",
              "      <td>-122.334540</td>\n",
              "      <td>47.607871</td>\n",
              "      <td>3</td>\n",
              "      <td>26700</td>\n",
              "      <td>26700</td>\n",
              "      <td>1482393</td>\n",
              "      <td>Matched</td>\n",
              "      <td>Block</td>\n",
              "      <td>NaN</td>\n",
              "      <td>4TH AVE BETWEEN SENECA ST AND UNIVERSITY ST</td>\n",
              "      <td>NaN</td>\n",
              "      <td>NaN</td>\n",
              "      <td>1</td>\n",
              "      <td>Property Damage Only Collision</td>\n",
              "      <td>Parked Car</td>\n",
              "      <td>4</td>\n",
              "      <td>0</td>\n",
              "      <td>0</td>\n",
              "      <td>3</td>\n",
              "      <td>2004/11/18 00:00:00+00</td>\n",
              "      <td>11/18/2004 10:20:00 AM</td>\n",
              "      <td>Mid-Block (not related to intersection)</td>\n",
              "      <td>14</td>\n",
              "      <td>MOTOR VEHICLE STRUCK MOTOR VEHICLE, REAR END</td>\n",
              "      <td>NaN</td>\n",
              "      <td>0</td>\n",
              "      <td>Overcast</td>\n",
              "      <td>Dry</td>\n",
              "      <td>Daylight</td>\n",
              "      <td>NaN</td>\n",
              "      <td>4323031.0</td>\n",
              "      <td>NaN</td>\n",
              "      <td>32</td>\n",
              "      <td>One parked--one moving</td>\n",
              "      <td>0</td>\n",
              "      <td>0</td>\n",
              "      <td>N</td>\n",
              "    </tr>\n",
              "    <tr>\n",
              "      <th>3</th>\n",
              "      <td>1</td>\n",
              "      <td>-122.334803</td>\n",
              "      <td>47.604803</td>\n",
              "      <td>4</td>\n",
              "      <td>1144</td>\n",
              "      <td>1144</td>\n",
              "      <td>3503937</td>\n",
              "      <td>Matched</td>\n",
              "      <td>Block</td>\n",
              "      <td>NaN</td>\n",
              "      <td>2ND AVE BETWEEN MARION ST AND MADISON ST</td>\n",
              "      <td></td>\n",
              "      <td>NaN</td>\n",
              "      <td>1</td>\n",
              "      <td>Property Damage Only Collision</td>\n",
              "      <td>Other</td>\n",
              "      <td>3</td>\n",
              "      <td>0</td>\n",
              "      <td>0</td>\n",
              "      <td>3</td>\n",
              "      <td>2013/03/29 00:00:00+00</td>\n",
              "      <td>3/29/2013 9:26:00 AM</td>\n",
              "      <td>Mid-Block (not related to intersection)</td>\n",
              "      <td>11</td>\n",
              "      <td>MOTOR VEHICLE STRUCK MOTOR VEHICLE, FRONT END ...</td>\n",
              "      <td>NaN</td>\n",
              "      <td>N</td>\n",
              "      <td>Clear</td>\n",
              "      <td>Dry</td>\n",
              "      <td>Daylight</td>\n",
              "      <td>NaN</td>\n",
              "      <td>NaN</td>\n",
              "      <td>NaN</td>\n",
              "      <td>23</td>\n",
              "      <td>From same direction - all others</td>\n",
              "      <td>0</td>\n",
              "      <td>0</td>\n",
              "      <td>N</td>\n",
              "    </tr>\n",
              "    <tr>\n",
              "      <th>4</th>\n",
              "      <td>2</td>\n",
              "      <td>-122.306426</td>\n",
              "      <td>47.545739</td>\n",
              "      <td>5</td>\n",
              "      <td>17700</td>\n",
              "      <td>17700</td>\n",
              "      <td>1807429</td>\n",
              "      <td>Matched</td>\n",
              "      <td>Intersection</td>\n",
              "      <td>34387.0</td>\n",
              "      <td>SWIFT AVE S AND SWIFT AV OFF RP</td>\n",
              "      <td>NaN</td>\n",
              "      <td>NaN</td>\n",
              "      <td>2</td>\n",
              "      <td>Injury Collision</td>\n",
              "      <td>Angles</td>\n",
              "      <td>2</td>\n",
              "      <td>0</td>\n",
              "      <td>0</td>\n",
              "      <td>2</td>\n",
              "      <td>2004/01/28 00:00:00+00</td>\n",
              "      <td>1/28/2004 8:04:00 AM</td>\n",
              "      <td>At Intersection (intersection related)</td>\n",
              "      <td>11</td>\n",
              "      <td>MOTOR VEHICLE STRUCK MOTOR VEHICLE, FRONT END ...</td>\n",
              "      <td>NaN</td>\n",
              "      <td>0</td>\n",
              "      <td>Raining</td>\n",
              "      <td>Wet</td>\n",
              "      <td>Daylight</td>\n",
              "      <td>NaN</td>\n",
              "      <td>4028032.0</td>\n",
              "      <td>NaN</td>\n",
              "      <td>10</td>\n",
              "      <td>Entering at angle</td>\n",
              "      <td>0</td>\n",
              "      <td>0</td>\n",
              "      <td>N</td>\n",
              "    </tr>\n",
              "  </tbody>\n",
              "</table>\n",
              "</div>"
            ],
            "text/plain": [
              "   SEVERITYCODE           X          Y  ...  SEGLANEKEY  CROSSWALKKEY  HITPARKEDCAR\n",
              "0             2 -122.323148  47.703140  ...           0             0             N\n",
              "1             1 -122.347294  47.647172  ...           0             0             N\n",
              "2             1 -122.334540  47.607871  ...           0             0             N\n",
              "3             1 -122.334803  47.604803  ...           0             0             N\n",
              "4             2 -122.306426  47.545739  ...           0             0             N\n",
              "\n",
              "[5 rows x 38 columns]"
            ]
          },
          "metadata": {
            "tags": []
          },
          "execution_count": 2
        }
      ]
    },
    {
      "cell_type": "code",
      "metadata": {
        "id": "e6npMa6sV9yA",
        "colab_type": "code",
        "colab": {}
      },
      "source": [
        ""
      ],
      "execution_count": 2,
      "outputs": []
    },
    {
      "cell_type": "markdown",
      "metadata": {
        "id": "Gv5KVv0ljazD",
        "colab_type": "text"
      },
      "source": [
        "Clean up missing values and redundant and ID data fields."
      ]
    },
    {
      "cell_type": "code",
      "metadata": {
        "id": "rIcMOPVVjKax",
        "colab_type": "code",
        "colab": {
          "base_uri": "https://localhost:8080/",
          "height": 173
        },
        "outputId": "e97cca5f-02a7-411f-d8f5-b0196d00f136"
      },
      "source": [
        "df.columns"
      ],
      "execution_count": 3,
      "outputs": [
        {
          "output_type": "execute_result",
          "data": {
            "text/plain": [
              "Index(['SEVERITYCODE', 'X', 'Y', 'OBJECTID', 'INCKEY', 'COLDETKEY', 'REPORTNO',\n",
              "       'STATUS', 'ADDRTYPE', 'INTKEY', 'LOCATION', 'EXCEPTRSNCODE',\n",
              "       'EXCEPTRSNDESC', 'SEVERITYCODE.1', 'SEVERITYDESC', 'COLLISIONTYPE',\n",
              "       'PERSONCOUNT', 'PEDCOUNT', 'PEDCYLCOUNT', 'VEHCOUNT', 'INCDATE',\n",
              "       'INCDTTM', 'JUNCTIONTYPE', 'SDOT_COLCODE', 'SDOT_COLDESC',\n",
              "       'INATTENTIONIND', 'UNDERINFL', 'WEATHER', 'ROADCOND', 'LIGHTCOND',\n",
              "       'PEDROWNOTGRNT', 'SDOTCOLNUM', 'SPEEDING', 'ST_COLCODE', 'ST_COLDESC',\n",
              "       'SEGLANEKEY', 'CROSSWALKKEY', 'HITPARKEDCAR'],\n",
              "      dtype='object')"
            ]
          },
          "metadata": {
            "tags": []
          },
          "execution_count": 3
        }
      ]
    },
    {
      "cell_type": "code",
      "metadata": {
        "id": "T7s0eyUz6Nnm",
        "colab_type": "code",
        "colab": {
          "base_uri": "https://localhost:8080/",
          "height": 35
        },
        "outputId": "4d06dbd6-4185-44fc-dc8b-0a6028a820d0"
      },
      "source": [
        "df.shape"
      ],
      "execution_count": 4,
      "outputs": [
        {
          "output_type": "execute_result",
          "data": {
            "text/plain": [
              "(194673, 38)"
            ]
          },
          "metadata": {
            "tags": []
          },
          "execution_count": 4
        }
      ]
    },
    {
      "cell_type": "code",
      "metadata": {
        "id": "PmrUCKfguVyM",
        "colab_type": "code",
        "colab": {
          "base_uri": "https://localhost:8080/",
          "height": 35
        },
        "outputId": "9abe2446-437f-4bec-c180-eda0149dfb40"
      },
      "source": [
        "df.loc[df['ADDRTYPE'].isnull(), 'ADDRTYPE'] = 'Unknown'\n",
        "df['ADDRTYPE'].unique()"
      ],
      "execution_count": 5,
      "outputs": [
        {
          "output_type": "execute_result",
          "data": {
            "text/plain": [
              "array(['Intersection', 'Block', 'Alley', 'Unknown'], dtype=object)"
            ]
          },
          "metadata": {
            "tags": []
          },
          "execution_count": 5
        }
      ]
    },
    {
      "cell_type": "code",
      "metadata": {
        "id": "vuUWjiYpwARc",
        "colab_type": "code",
        "colab": {
          "base_uri": "https://localhost:8080/",
          "height": 69
        },
        "outputId": "bbd1b77c-f341-4862-de86-c1307984c19c"
      },
      "source": [
        "df.loc[df['COLLISIONTYPE'].isnull(), 'COLLISIONTYPE'] = 'Other'\n",
        "df['COLLISIONTYPE'].unique()"
      ],
      "execution_count": 6,
      "outputs": [
        {
          "output_type": "execute_result",
          "data": {
            "text/plain": [
              "array(['Angles', 'Sideswipe', 'Parked Car', 'Other', 'Cycles',\n",
              "       'Rear Ended', 'Head On', 'Left Turn', 'Pedestrian', 'Right Turn'],\n",
              "      dtype=object)"
            ]
          },
          "metadata": {
            "tags": []
          },
          "execution_count": 6
        }
      ]
    },
    {
      "cell_type": "code",
      "metadata": {
        "id": "soI9chS2tTmO",
        "colab_type": "code",
        "colab": {
          "base_uri": "https://localhost:8080/",
          "height": 173
        },
        "outputId": "ec04aa84-2438-47f8-e769-21393afa4987"
      },
      "source": [
        "df.columns.values"
      ],
      "execution_count": 7,
      "outputs": [
        {
          "output_type": "execute_result",
          "data": {
            "text/plain": [
              "array(['SEVERITYCODE', 'X', 'Y', 'OBJECTID', 'INCKEY', 'COLDETKEY',\n",
              "       'REPORTNO', 'STATUS', 'ADDRTYPE', 'INTKEY', 'LOCATION',\n",
              "       'EXCEPTRSNCODE', 'EXCEPTRSNDESC', 'SEVERITYCODE.1', 'SEVERITYDESC',\n",
              "       'COLLISIONTYPE', 'PERSONCOUNT', 'PEDCOUNT', 'PEDCYLCOUNT',\n",
              "       'VEHCOUNT', 'INCDATE', 'INCDTTM', 'JUNCTIONTYPE', 'SDOT_COLCODE',\n",
              "       'SDOT_COLDESC', 'INATTENTIONIND', 'UNDERINFL', 'WEATHER',\n",
              "       'ROADCOND', 'LIGHTCOND', 'PEDROWNOTGRNT', 'SDOTCOLNUM', 'SPEEDING',\n",
              "       'ST_COLCODE', 'ST_COLDESC', 'SEGLANEKEY', 'CROSSWALKKEY',\n",
              "       'HITPARKEDCAR'], dtype=object)"
            ]
          },
          "metadata": {
            "tags": []
          },
          "execution_count": 7
        }
      ]
    },
    {
      "cell_type": "code",
      "metadata": {
        "id": "1oVEB-H9WIIh",
        "colab_type": "code",
        "colab": {
          "base_uri": "https://localhost:8080/",
          "height": 87
        },
        "outputId": "938f169e-053a-463a-9f31-32272abb09f6"
      },
      "source": [
        "df['JUNCTIONTYPE'].unique()\n",
        "df.loc[df['JUNCTIONTYPE'].isnull(), 'JUNCTIONTYPE'] = 'Unknown'\n",
        "\n",
        "df.groupby(['UNDERINFL']).size()\n",
        "\n",
        "df['UNDERINFL'].replace(('Y', '1', 'N', '0', np.NaN), (1, 1, 0, 0, 0), inplace=True)\n",
        "\n",
        "\n",
        "df.groupby(['PEDROWNOTGRNT']).size()\n",
        "df['PEDROWNOTGRNT'].replace(('Y', np.NaN), (1, 0), inplace=True)\n",
        "df.groupby(['PEDROWNOTGRNT']).size()\n",
        "\n"
      ],
      "execution_count": 8,
      "outputs": [
        {
          "output_type": "execute_result",
          "data": {
            "text/plain": [
              "PEDROWNOTGRNT\n",
              "0    190006\n",
              "1      4667\n",
              "dtype: int64"
            ]
          },
          "metadata": {
            "tags": []
          },
          "execution_count": 8
        }
      ]
    },
    {
      "cell_type": "code",
      "metadata": {
        "id": "dO1_Py1Suh0-",
        "colab_type": "code",
        "colab": {
          "base_uri": "https://localhost:8080/",
          "height": 87
        },
        "outputId": "6f7532e6-4b22-4514-ce49-030fd2ebae80"
      },
      "source": [
        "df['HITPARKEDCAR'].replace(('Y', 'N'), (1, 0), inplace=True)\n",
        "df.groupby(['HITPARKEDCAR']).size()"
      ],
      "execution_count": 9,
      "outputs": [
        {
          "output_type": "execute_result",
          "data": {
            "text/plain": [
              "HITPARKEDCAR\n",
              "0    187457\n",
              "1      7216\n",
              "dtype: int64"
            ]
          },
          "metadata": {
            "tags": []
          },
          "execution_count": 9
        }
      ]
    },
    {
      "cell_type": "code",
      "metadata": {
        "id": "dwqhG3H_KDgd",
        "colab_type": "code",
        "colab": {
          "base_uri": "https://localhost:8080/",
          "height": 87
        },
        "outputId": "4e7d0287-70ec-4de0-9100-1b2c919d958b"
      },
      "source": [
        "df['SEVERITYCODE'].replace((1, 2), (0, 1), inplace=True)\n",
        "df.groupby(['SEVERITYCODE']).size()"
      ],
      "execution_count": 10,
      "outputs": [
        {
          "output_type": "execute_result",
          "data": {
            "text/plain": [
              "SEVERITYCODE\n",
              "0    136485\n",
              "1     58188\n",
              "dtype: int64"
            ]
          },
          "metadata": {
            "tags": []
          },
          "execution_count": 10
        }
      ]
    },
    {
      "cell_type": "code",
      "metadata": {
        "id": "NuQZzuiYvXDo",
        "colab_type": "code",
        "colab": {
          "base_uri": "https://localhost:8080/",
          "height": 87
        },
        "outputId": "2db95ea0-17cd-469d-b921-5b2235a8e96b"
      },
      "source": [
        "df['SPEEDING'].replace(('Y', np.NaN), (1,0), inplace=True)\n",
        "df.groupby(['SPEEDING']).size()"
      ],
      "execution_count": 11,
      "outputs": [
        {
          "output_type": "execute_result",
          "data": {
            "text/plain": [
              "SPEEDING\n",
              "0    185340\n",
              "1      9333\n",
              "dtype: int64"
            ]
          },
          "metadata": {
            "tags": []
          },
          "execution_count": 11
        }
      ]
    },
    {
      "cell_type": "code",
      "metadata": {
        "id": "j072OkNAPHv4",
        "colab_type": "code",
        "colab": {
          "base_uri": "https://localhost:8080/",
          "height": 87
        },
        "outputId": "3930a440-b6b4-43b8-8584-cec18f2feb5b"
      },
      "source": [
        "df.groupby(['INATTENTIONIND']).size()\n",
        "df['INATTENTIONIND'].replace(('Y', np.NaN), (1, 0), inplace=True)\n",
        "df.groupby(['INATTENTIONIND']).size()"
      ],
      "execution_count": 12,
      "outputs": [
        {
          "output_type": "execute_result",
          "data": {
            "text/plain": [
              "INATTENTIONIND\n",
              "0    164868\n",
              "1     29805\n",
              "dtype: int64"
            ]
          },
          "metadata": {
            "tags": []
          },
          "execution_count": 12
        }
      ]
    },
    {
      "cell_type": "code",
      "metadata": {
        "id": "7GCBtCS6ZSdR",
        "colab_type": "code",
        "colab": {
          "base_uri": "https://localhost:8080/",
          "height": 35
        },
        "outputId": "97df75ce-ad70-48f1-e82d-22e5ea35d362"
      },
      "source": [
        "df.groupby(['SDOT_COLCODE']).size().count()"
      ],
      "execution_count": 13,
      "outputs": [
        {
          "output_type": "execute_result",
          "data": {
            "text/plain": [
              "39"
            ]
          },
          "metadata": {
            "tags": []
          },
          "execution_count": 13
        }
      ]
    },
    {
      "cell_type": "code",
      "metadata": {
        "id": "62qFl6Aym2kZ",
        "colab_type": "code",
        "colab": {}
      },
      "source": [
        "df = df.drop(['SEVERITYCODE.1', 'INCKEY', 'EXCEPTRSNCODE', \n",
        "              'INTKEY', 'REPORTNO', 'EXCEPTRSNDESC', 'COLDETKEY', 'OBJECTID', 'SEVERITYDESC', 'INCDATE', \n",
        "              'SDOTCOLNUM', 'SEGLANEKEY', 'CROSSWALKKEY', 'ST_COLCODE', 'STATUS'], axis=1)\n"
      ],
      "execution_count": 14,
      "outputs": []
    },
    {
      "cell_type": "code",
      "metadata": {
        "id": "gzV_13CnIx46",
        "colab_type": "code",
        "colab": {}
      },
      "source": [
        "df.drop_duplicates(keep='first', inplace=True)"
      ],
      "execution_count": 15,
      "outputs": []
    },
    {
      "cell_type": "code",
      "metadata": {
        "id": "yO8FZtlJnQF2",
        "colab_type": "code",
        "colab": {
          "base_uri": "https://localhost:8080/",
          "height": 314
        },
        "outputId": "c9bd6b4d-20fb-4f70-d90e-6bded238f287"
      },
      "source": [
        "df.describe()"
      ],
      "execution_count": 16,
      "outputs": [
        {
          "output_type": "execute_result",
          "data": {
            "text/html": [
              "<div>\n",
              "<style scoped>\n",
              "    .dataframe tbody tr th:only-of-type {\n",
              "        vertical-align: middle;\n",
              "    }\n",
              "\n",
              "    .dataframe tbody tr th {\n",
              "        vertical-align: top;\n",
              "    }\n",
              "\n",
              "    .dataframe thead th {\n",
              "        text-align: right;\n",
              "    }\n",
              "</style>\n",
              "<table border=\"1\" class=\"dataframe\">\n",
              "  <thead>\n",
              "    <tr style=\"text-align: right;\">\n",
              "      <th></th>\n",
              "      <th>SEVERITYCODE</th>\n",
              "      <th>X</th>\n",
              "      <th>Y</th>\n",
              "      <th>PERSONCOUNT</th>\n",
              "      <th>PEDCOUNT</th>\n",
              "      <th>PEDCYLCOUNT</th>\n",
              "      <th>VEHCOUNT</th>\n",
              "      <th>SDOT_COLCODE</th>\n",
              "      <th>INATTENTIONIND</th>\n",
              "      <th>UNDERINFL</th>\n",
              "      <th>PEDROWNOTGRNT</th>\n",
              "      <th>SPEEDING</th>\n",
              "      <th>HITPARKEDCAR</th>\n",
              "    </tr>\n",
              "  </thead>\n",
              "  <tbody>\n",
              "    <tr>\n",
              "      <th>count</th>\n",
              "      <td>194621.000000</td>\n",
              "      <td>189303.000000</td>\n",
              "      <td>189303.000000</td>\n",
              "      <td>194621.000000</td>\n",
              "      <td>194621.000000</td>\n",
              "      <td>194621.000000</td>\n",
              "      <td>194621.000000</td>\n",
              "      <td>194621.000000</td>\n",
              "      <td>194621.000000</td>\n",
              "      <td>194621.00000</td>\n",
              "      <td>194621.000000</td>\n",
              "      <td>194621.000000</td>\n",
              "      <td>194621.000000</td>\n",
              "    </tr>\n",
              "    <tr>\n",
              "      <th>mean</th>\n",
              "      <td>0.298925</td>\n",
              "      <td>-122.330518</td>\n",
              "      <td>47.619542</td>\n",
              "      <td>2.444505</td>\n",
              "      <td>0.037139</td>\n",
              "      <td>0.028389</td>\n",
              "      <td>1.920856</td>\n",
              "      <td>13.868750</td>\n",
              "      <td>0.153113</td>\n",
              "      <td>0.04686</td>\n",
              "      <td>0.023975</td>\n",
              "      <td>0.047944</td>\n",
              "      <td>0.037057</td>\n",
              "    </tr>\n",
              "    <tr>\n",
              "      <th>std</th>\n",
              "      <td>0.457788</td>\n",
              "      <td>0.029977</td>\n",
              "      <td>0.056157</td>\n",
              "      <td>1.345973</td>\n",
              "      <td>0.198151</td>\n",
              "      <td>0.167406</td>\n",
              "      <td>0.630951</td>\n",
              "      <td>6.867755</td>\n",
              "      <td>0.360097</td>\n",
              "      <td>0.21134</td>\n",
              "      <td>0.152971</td>\n",
              "      <td>0.213649</td>\n",
              "      <td>0.188901</td>\n",
              "    </tr>\n",
              "    <tr>\n",
              "      <th>min</th>\n",
              "      <td>0.000000</td>\n",
              "      <td>-122.419091</td>\n",
              "      <td>47.495573</td>\n",
              "      <td>0.000000</td>\n",
              "      <td>0.000000</td>\n",
              "      <td>0.000000</td>\n",
              "      <td>0.000000</td>\n",
              "      <td>0.000000</td>\n",
              "      <td>0.000000</td>\n",
              "      <td>0.00000</td>\n",
              "      <td>0.000000</td>\n",
              "      <td>0.000000</td>\n",
              "      <td>0.000000</td>\n",
              "    </tr>\n",
              "    <tr>\n",
              "      <th>25%</th>\n",
              "      <td>0.000000</td>\n",
              "      <td>-122.348673</td>\n",
              "      <td>47.575956</td>\n",
              "      <td>2.000000</td>\n",
              "      <td>0.000000</td>\n",
              "      <td>0.000000</td>\n",
              "      <td>2.000000</td>\n",
              "      <td>11.000000</td>\n",
              "      <td>0.000000</td>\n",
              "      <td>0.00000</td>\n",
              "      <td>0.000000</td>\n",
              "      <td>0.000000</td>\n",
              "      <td>0.000000</td>\n",
              "    </tr>\n",
              "    <tr>\n",
              "      <th>50%</th>\n",
              "      <td>0.000000</td>\n",
              "      <td>-122.330224</td>\n",
              "      <td>47.615369</td>\n",
              "      <td>2.000000</td>\n",
              "      <td>0.000000</td>\n",
              "      <td>0.000000</td>\n",
              "      <td>2.000000</td>\n",
              "      <td>13.000000</td>\n",
              "      <td>0.000000</td>\n",
              "      <td>0.00000</td>\n",
              "      <td>0.000000</td>\n",
              "      <td>0.000000</td>\n",
              "      <td>0.000000</td>\n",
              "    </tr>\n",
              "    <tr>\n",
              "      <th>75%</th>\n",
              "      <td>1.000000</td>\n",
              "      <td>-122.311937</td>\n",
              "      <td>47.663664</td>\n",
              "      <td>3.000000</td>\n",
              "      <td>0.000000</td>\n",
              "      <td>0.000000</td>\n",
              "      <td>2.000000</td>\n",
              "      <td>14.000000</td>\n",
              "      <td>0.000000</td>\n",
              "      <td>0.00000</td>\n",
              "      <td>0.000000</td>\n",
              "      <td>0.000000</td>\n",
              "      <td>0.000000</td>\n",
              "    </tr>\n",
              "    <tr>\n",
              "      <th>max</th>\n",
              "      <td>1.000000</td>\n",
              "      <td>-122.238949</td>\n",
              "      <td>47.734142</td>\n",
              "      <td>81.000000</td>\n",
              "      <td>6.000000</td>\n",
              "      <td>2.000000</td>\n",
              "      <td>12.000000</td>\n",
              "      <td>69.000000</td>\n",
              "      <td>1.000000</td>\n",
              "      <td>1.00000</td>\n",
              "      <td>1.000000</td>\n",
              "      <td>1.000000</td>\n",
              "      <td>1.000000</td>\n",
              "    </tr>\n",
              "  </tbody>\n",
              "</table>\n",
              "</div>"
            ],
            "text/plain": [
              "        SEVERITYCODE              X  ...       SPEEDING   HITPARKEDCAR\n",
              "count  194621.000000  189303.000000  ...  194621.000000  194621.000000\n",
              "mean        0.298925    -122.330518  ...       0.047944       0.037057\n",
              "std         0.457788       0.029977  ...       0.213649       0.188901\n",
              "min         0.000000    -122.419091  ...       0.000000       0.000000\n",
              "25%         0.000000    -122.348673  ...       0.000000       0.000000\n",
              "50%         0.000000    -122.330224  ...       0.000000       0.000000\n",
              "75%         1.000000    -122.311937  ...       0.000000       0.000000\n",
              "max         1.000000    -122.238949  ...       1.000000       1.000000\n",
              "\n",
              "[8 rows x 13 columns]"
            ]
          },
          "metadata": {
            "tags": []
          },
          "execution_count": 16
        }
      ]
    },
    {
      "cell_type": "code",
      "metadata": {
        "id": "b6oIRHaEvLWj",
        "colab_type": "code",
        "colab": {
          "base_uri": "https://localhost:8080/",
          "height": 104
        },
        "outputId": "3c6a879b-b6a3-41d2-fce0-1f8d23fecf32"
      },
      "source": [
        "df.columns.values"
      ],
      "execution_count": 17,
      "outputs": [
        {
          "output_type": "execute_result",
          "data": {
            "text/plain": [
              "array(['SEVERITYCODE', 'X', 'Y', 'ADDRTYPE', 'LOCATION', 'COLLISIONTYPE',\n",
              "       'PERSONCOUNT', 'PEDCOUNT', 'PEDCYLCOUNT', 'VEHCOUNT', 'INCDTTM',\n",
              "       'JUNCTIONTYPE', 'SDOT_COLCODE', 'SDOT_COLDESC', 'INATTENTIONIND',\n",
              "       'UNDERINFL', 'WEATHER', 'ROADCOND', 'LIGHTCOND', 'PEDROWNOTGRNT',\n",
              "       'SPEEDING', 'ST_COLDESC', 'HITPARKEDCAR'], dtype=object)"
            ]
          },
          "metadata": {
            "tags": []
          },
          "execution_count": 17
        }
      ]
    },
    {
      "cell_type": "code",
      "metadata": {
        "id": "idssDI87y3nq",
        "colab_type": "code",
        "colab": {
          "base_uri": "https://localhost:8080/",
          "height": 467
        },
        "outputId": "2b8cc62c-5ac4-461b-bca3-2ecd916a410a"
      },
      "source": [
        "df.corr(method='pearson', min_periods=1)"
      ],
      "execution_count": 18,
      "outputs": [
        {
          "output_type": "execute_result",
          "data": {
            "text/html": [
              "<div>\n",
              "<style scoped>\n",
              "    .dataframe tbody tr th:only-of-type {\n",
              "        vertical-align: middle;\n",
              "    }\n",
              "\n",
              "    .dataframe tbody tr th {\n",
              "        vertical-align: top;\n",
              "    }\n",
              "\n",
              "    .dataframe thead th {\n",
              "        text-align: right;\n",
              "    }\n",
              "</style>\n",
              "<table border=\"1\" class=\"dataframe\">\n",
              "  <thead>\n",
              "    <tr style=\"text-align: right;\">\n",
              "      <th></th>\n",
              "      <th>SEVERITYCODE</th>\n",
              "      <th>X</th>\n",
              "      <th>Y</th>\n",
              "      <th>PERSONCOUNT</th>\n",
              "      <th>PEDCOUNT</th>\n",
              "      <th>PEDCYLCOUNT</th>\n",
              "      <th>VEHCOUNT</th>\n",
              "      <th>SDOT_COLCODE</th>\n",
              "      <th>INATTENTIONIND</th>\n",
              "      <th>UNDERINFL</th>\n",
              "      <th>PEDROWNOTGRNT</th>\n",
              "      <th>SPEEDING</th>\n",
              "      <th>HITPARKEDCAR</th>\n",
              "    </tr>\n",
              "  </thead>\n",
              "  <tbody>\n",
              "    <tr>\n",
              "      <th>SEVERITYCODE</th>\n",
              "      <td>1.000000</td>\n",
              "      <td>0.010316</td>\n",
              "      <td>0.017732</td>\n",
              "      <td>0.130889</td>\n",
              "      <td>0.246308</td>\n",
              "      <td>0.214244</td>\n",
              "      <td>-0.054713</td>\n",
              "      <td>0.188858</td>\n",
              "      <td>0.046329</td>\n",
              "      <td>0.044336</td>\n",
              "      <td>0.206269</td>\n",
              "      <td>0.038967</td>\n",
              "      <td>-0.101476</td>\n",
              "    </tr>\n",
              "    <tr>\n",
              "      <th>X</th>\n",
              "      <td>0.010316</td>\n",
              "      <td>1.000000</td>\n",
              "      <td>-0.160291</td>\n",
              "      <td>0.012934</td>\n",
              "      <td>0.011309</td>\n",
              "      <td>-0.001768</td>\n",
              "      <td>-0.012187</td>\n",
              "      <td>0.010897</td>\n",
              "      <td>-0.015339</td>\n",
              "      <td>-0.031153</td>\n",
              "      <td>0.008384</td>\n",
              "      <td>-0.008162</td>\n",
              "      <td>-0.016510</td>\n",
              "    </tr>\n",
              "    <tr>\n",
              "      <th>Y</th>\n",
              "      <td>0.017732</td>\n",
              "      <td>-0.160291</td>\n",
              "      <td>1.000000</td>\n",
              "      <td>-0.013899</td>\n",
              "      <td>0.010194</td>\n",
              "      <td>0.026304</td>\n",
              "      <td>0.017078</td>\n",
              "      <td>-0.019732</td>\n",
              "      <td>0.008756</td>\n",
              "      <td>-0.006750</td>\n",
              "      <td>0.022018</td>\n",
              "      <td>-0.026601</td>\n",
              "      <td>-0.012552</td>\n",
              "    </tr>\n",
              "    <tr>\n",
              "      <th>PERSONCOUNT</th>\n",
              "      <td>0.130889</td>\n",
              "      <td>0.012934</td>\n",
              "      <td>-0.013899</td>\n",
              "      <td>1.000000</td>\n",
              "      <td>-0.023463</td>\n",
              "      <td>-0.038764</td>\n",
              "      <td>0.380511</td>\n",
              "      <td>-0.129009</td>\n",
              "      <td>0.077370</td>\n",
              "      <td>0.022418</td>\n",
              "      <td>-0.027453</td>\n",
              "      <td>-0.002942</td>\n",
              "      <td>-0.052761</td>\n",
              "    </tr>\n",
              "    <tr>\n",
              "      <th>PEDCOUNT</th>\n",
              "      <td>0.246308</td>\n",
              "      <td>0.011309</td>\n",
              "      <td>0.010194</td>\n",
              "      <td>-0.023463</td>\n",
              "      <td>1.000000</td>\n",
              "      <td>-0.016914</td>\n",
              "      <td>-0.261340</td>\n",
              "      <td>0.260395</td>\n",
              "      <td>-0.004299</td>\n",
              "      <td>0.016600</td>\n",
              "      <td>0.494593</td>\n",
              "      <td>-0.032836</td>\n",
              "      <td>-0.035258</td>\n",
              "    </tr>\n",
              "    <tr>\n",
              "      <th>PEDCYLCOUNT</th>\n",
              "      <td>0.214244</td>\n",
              "      <td>-0.001768</td>\n",
              "      <td>0.026304</td>\n",
              "      <td>-0.038764</td>\n",
              "      <td>-0.016914</td>\n",
              "      <td>1.000000</td>\n",
              "      <td>-0.253822</td>\n",
              "      <td>0.382487</td>\n",
              "      <td>0.004096</td>\n",
              "      <td>-0.016397</td>\n",
              "      <td>0.323752</td>\n",
              "      <td>-0.020385</td>\n",
              "      <td>-0.030179</td>\n",
              "    </tr>\n",
              "    <tr>\n",
              "      <th>VEHCOUNT</th>\n",
              "      <td>-0.054713</td>\n",
              "      <td>-0.012187</td>\n",
              "      <td>0.017078</td>\n",
              "      <td>0.380511</td>\n",
              "      <td>-0.261340</td>\n",
              "      <td>-0.253822</td>\n",
              "      <td>1.000000</td>\n",
              "      <td>-0.366067</td>\n",
              "      <td>0.076199</td>\n",
              "      <td>0.006581</td>\n",
              "      <td>-0.228049</td>\n",
              "      <td>-0.025748</td>\n",
              "      <td>0.048835</td>\n",
              "    </tr>\n",
              "    <tr>\n",
              "      <th>SDOT_COLCODE</th>\n",
              "      <td>0.188858</td>\n",
              "      <td>0.010897</td>\n",
              "      <td>-0.019732</td>\n",
              "      <td>-0.129009</td>\n",
              "      <td>0.260395</td>\n",
              "      <td>0.382487</td>\n",
              "      <td>-0.366067</td>\n",
              "      <td>1.000000</td>\n",
              "      <td>0.029439</td>\n",
              "      <td>0.106787</td>\n",
              "      <td>0.238663</td>\n",
              "      <td>0.144695</td>\n",
              "      <td>-0.095049</td>\n",
              "    </tr>\n",
              "    <tr>\n",
              "      <th>INATTENTIONIND</th>\n",
              "      <td>0.046329</td>\n",
              "      <td>-0.015339</td>\n",
              "      <td>0.008756</td>\n",
              "      <td>0.077370</td>\n",
              "      <td>-0.004299</td>\n",
              "      <td>0.004096</td>\n",
              "      <td>0.076199</td>\n",
              "      <td>0.029439</td>\n",
              "      <td>1.000000</td>\n",
              "      <td>-0.026020</td>\n",
              "      <td>-0.026438</td>\n",
              "      <td>-0.048868</td>\n",
              "      <td>0.011991</td>\n",
              "    </tr>\n",
              "    <tr>\n",
              "      <th>UNDERINFL</th>\n",
              "      <td>0.044336</td>\n",
              "      <td>-0.031153</td>\n",
              "      <td>-0.006750</td>\n",
              "      <td>0.022418</td>\n",
              "      <td>0.016600</td>\n",
              "      <td>-0.016397</td>\n",
              "      <td>0.006581</td>\n",
              "      <td>0.106787</td>\n",
              "      <td>-0.026020</td>\n",
              "      <td>1.000000</td>\n",
              "      <td>-0.017586</td>\n",
              "      <td>0.092374</td>\n",
              "      <td>0.010173</td>\n",
              "    </tr>\n",
              "    <tr>\n",
              "      <th>PEDROWNOTGRNT</th>\n",
              "      <td>0.206269</td>\n",
              "      <td>0.008384</td>\n",
              "      <td>0.022018</td>\n",
              "      <td>-0.027453</td>\n",
              "      <td>0.494593</td>\n",
              "      <td>0.323752</td>\n",
              "      <td>-0.228049</td>\n",
              "      <td>0.238663</td>\n",
              "      <td>-0.026438</td>\n",
              "      <td>-0.017586</td>\n",
              "      <td>1.000000</td>\n",
              "      <td>-0.028411</td>\n",
              "      <td>-0.030745</td>\n",
              "    </tr>\n",
              "    <tr>\n",
              "      <th>SPEEDING</th>\n",
              "      <td>0.038967</td>\n",
              "      <td>-0.008162</td>\n",
              "      <td>-0.026601</td>\n",
              "      <td>-0.002942</td>\n",
              "      <td>-0.032836</td>\n",
              "      <td>-0.020385</td>\n",
              "      <td>-0.025748</td>\n",
              "      <td>0.144695</td>\n",
              "      <td>-0.048868</td>\n",
              "      <td>0.092374</td>\n",
              "      <td>-0.028411</td>\n",
              "      <td>1.000000</td>\n",
              "      <td>-0.028362</td>\n",
              "    </tr>\n",
              "    <tr>\n",
              "      <th>HITPARKEDCAR</th>\n",
              "      <td>-0.101476</td>\n",
              "      <td>-0.016510</td>\n",
              "      <td>-0.012552</td>\n",
              "      <td>-0.052761</td>\n",
              "      <td>-0.035258</td>\n",
              "      <td>-0.030179</td>\n",
              "      <td>0.048835</td>\n",
              "      <td>-0.095049</td>\n",
              "      <td>0.011991</td>\n",
              "      <td>0.010173</td>\n",
              "      <td>-0.030745</td>\n",
              "      <td>-0.028362</td>\n",
              "      <td>1.000000</td>\n",
              "    </tr>\n",
              "  </tbody>\n",
              "</table>\n",
              "</div>"
            ],
            "text/plain": [
              "                SEVERITYCODE         X  ...  SPEEDING  HITPARKEDCAR\n",
              "SEVERITYCODE        1.000000  0.010316  ...  0.038967     -0.101476\n",
              "X                   0.010316  1.000000  ... -0.008162     -0.016510\n",
              "Y                   0.017732 -0.160291  ... -0.026601     -0.012552\n",
              "PERSONCOUNT         0.130889  0.012934  ... -0.002942     -0.052761\n",
              "PEDCOUNT            0.246308  0.011309  ... -0.032836     -0.035258\n",
              "PEDCYLCOUNT         0.214244 -0.001768  ... -0.020385     -0.030179\n",
              "VEHCOUNT           -0.054713 -0.012187  ... -0.025748      0.048835\n",
              "SDOT_COLCODE        0.188858  0.010897  ...  0.144695     -0.095049\n",
              "INATTENTIONIND      0.046329 -0.015339  ... -0.048868      0.011991\n",
              "UNDERINFL           0.044336 -0.031153  ...  0.092374      0.010173\n",
              "PEDROWNOTGRNT       0.206269  0.008384  ... -0.028411     -0.030745\n",
              "SPEEDING            0.038967 -0.008162  ...  1.000000     -0.028362\n",
              "HITPARKEDCAR       -0.101476 -0.016510  ... -0.028362      1.000000\n",
              "\n",
              "[13 rows x 13 columns]"
            ]
          },
          "metadata": {
            "tags": []
          },
          "execution_count": 18
        }
      ]
    },
    {
      "cell_type": "markdown",
      "metadata": {
        "id": "oWwGqluJZL3L",
        "colab_type": "text"
      },
      "source": [
        "Let's get a quick count for the severity values."
      ]
    },
    {
      "cell_type": "code",
      "metadata": {
        "id": "PqDxfNZDXUrR",
        "colab_type": "code",
        "colab": {
          "base_uri": "https://localhost:8080/",
          "height": 87
        },
        "outputId": "9f11d1a3-150e-4d7d-f79e-a733fab05b8e"
      },
      "source": [
        "df.groupby(['SEVERITYCODE']).size()"
      ],
      "execution_count": 19,
      "outputs": [
        {
          "output_type": "execute_result",
          "data": {
            "text/plain": [
              "SEVERITYCODE\n",
              "0    136444\n",
              "1     58177\n",
              "dtype: int64"
            ]
          },
          "metadata": {
            "tags": []
          },
          "execution_count": 19
        }
      ]
    },
    {
      "cell_type": "markdown",
      "metadata": {
        "id": "mpGPXtAoZaUT",
        "colab_type": "text"
      },
      "source": [
        "Looks like we have an unbalanced data set. Let's do a bit more analysis of the data. First, let's see if there's some collision types appear to be more serious than others."
      ]
    },
    {
      "cell_type": "code",
      "metadata": {
        "id": "7akyBeNCZdgT",
        "colab_type": "code",
        "colab": {
          "base_uri": "https://localhost:8080/",
          "height": 502
        },
        "outputId": "5fc56d0b-83c3-469c-d509-3d719d5389ff"
      },
      "source": [
        "sns.set(rc={'figure.figsize':(16,8)})\n",
        "sns.countplot(x='COLLISIONTYPE', hue='SEVERITYCODE', data=df)\n",
        "plt.show()"
      ],
      "execution_count": 20,
      "outputs": [
        {
          "output_type": "display_data",
          "data": {
            "image/png": "[encoded data removed]",
            "text/plain": [
              "<Figure size 1152x576 with 1 Axes>"
            ]
          },
          "metadata": {
            "tags": []
          }
        }
      ]
    },
    {
      "cell_type": "markdown",
      "metadata": {
        "id": "TqmxkmOOe5lH",
        "colab_type": "text"
      },
      "source": [
        "Sure looks like it to me. Pedestrian and Cycles collision types are likelier than not be serious. Angles, Rear Ended, Left Turn, and Head On are also disproportionately serious, given the imbalanced data. Let's quickly plot the severity based on description code column to see if there is a disparity there."
      ]
    },
    {
      "cell_type": "code",
      "metadata": {
        "id": "YjWgpuwcc9Vo",
        "colab_type": "code",
        "colab": {
          "base_uri": "https://localhost:8080/",
          "height": 379
        },
        "outputId": "1c27132a-65ac-46fd-d741-8fd91acad191"
      },
      "source": [
        "x, y = 'SDOT_COLCODE', 'SEVERITYCODE'\n",
        "\n",
        "(df\n",
        ".groupby(x)[y]\n",
        ".value_counts(normalize=True)\n",
        ".mul(100)\n",
        ".rename('percent')\n",
        ".reset_index()\n",
        ".pipe((sns.catplot,'data'), x=x,y='percent',hue=y,kind='bar', height = 5, aspect = 3))\n"
      ],
      "execution_count": 21,
      "outputs": [
        {
          "output_type": "execute_result",
          "data": {
            "text/plain": [
              "<seaborn.axisgrid.FacetGrid at 0x7fe8b383ac50>"
            ]
          },
          "metadata": {
            "tags": []
          },
          "execution_count": 21
        },
        {
          "output_type": "display_data",
          "data": {
            "image/png": "[encoded data removed]",
            "text/plain": [
              "<Figure size 1179.92x360 with 1 Axes>"
            ]
          },
          "metadata": {
            "tags": []
          }
        }
      ]
    },
    {
      "cell_type": "code",
      "metadata": {
        "id": "0hYfFgktgPDr",
        "colab_type": "code",
        "colab": {
          "base_uri": "https://localhost:8080/",
          "height": 311
        },
        "outputId": "75a89d5e-1c95-4b20-f9d0-e0053c15e544"
      },
      "source": [
        "x, y = 'SPEEDING', 'SEVERITYCODE'\n",
        "\n",
        "(df\n",
        ".groupby(x)[y]\n",
        ".value_counts(normalize=True)\n",
        ".mul(100)\n",
        ".rename('percent')\n",
        ".reset_index()\n",
        ".pipe((sns.catplot,'data'), x=x,y='percent',hue=y,kind='bar', height = 4, aspect = 2))\n"
      ],
      "execution_count": 22,
      "outputs": [
        {
          "output_type": "execute_result",
          "data": {
            "text/plain": [
              "<seaborn.axisgrid.FacetGrid at 0x7fe8b27c4080>"
            ]
          },
          "metadata": {
            "tags": []
          },
          "execution_count": 22
        },
        {
          "output_type": "display_data",
          "data": {
            "image/png": "[encoded data removed]",
            "text/plain": [
              "<Figure size 675.925x288 with 1 Axes>"
            ]
          },
          "metadata": {
            "tags": []
          }
        }
      ]
    },
    {
      "cell_type": "code",
      "metadata": {
        "id": "dAPwQnx9e3zz",
        "colab_type": "code",
        "colab": {
          "base_uri": "https://localhost:8080/",
          "height": 519
        },
        "outputId": "fe5cb262-8839-4579-c316-624744dc09c5"
      },
      "source": [
        "sns.countplot(x='ADDRTYPE', hue='SEVERITYCODE', data=df)"
      ],
      "execution_count": 23,
      "outputs": [
        {
          "output_type": "execute_result",
          "data": {
            "text/plain": [
              "<matplotlib.axes._subplots.AxesSubplot at 0x7fe8afdf6b70>"
            ]
          },
          "metadata": {
            "tags": []
          },
          "execution_count": 23
        },
        {
          "output_type": "display_data",
          "data": {
            "image/png": "[encoded data removed]",
            "text/plain": [
              "<Figure size 1152x576 with 1 Axes>"
            ]
          },
          "metadata": {
            "tags": []
          }
        }
      ]
    },
    {
      "cell_type": "code",
      "metadata": {
        "id": "pIiEiUcpuAqv",
        "colab_type": "code",
        "colab": {
          "base_uri": "https://localhost:8080/",
          "height": 519
        },
        "outputId": "e1e118a3-022e-4cb2-f250-b9e436b6c0fb"
      },
      "source": [
        "sns.countplot(x='UNDERINFL', hue='SEVERITYCODE', data=df)"
      ],
      "execution_count": 24,
      "outputs": [
        {
          "output_type": "execute_result",
          "data": {
            "text/plain": [
              "<matplotlib.axes._subplots.AxesSubplot at 0x7fe8afd7a6d8>"
            ]
          },
          "metadata": {
            "tags": []
          },
          "execution_count": 24
        },
        {
          "output_type": "display_data",
          "data": {
            "image/png": "[encoded data removed]",
            "text/plain": [
              "<Figure size 1152x576 with 1 Axes>"
            ]
          },
          "metadata": {
            "tags": []
          }
        }
      ]
    },
    {
      "cell_type": "code",
      "metadata": {
        "id": "EIJPu00uMFNf",
        "colab_type": "code",
        "colab": {
          "base_uri": "https://localhost:8080/",
          "height": 519
        },
        "outputId": "6f73d4d9-7dd5-4cfd-d2c3-224f7d2a462c"
      },
      "source": [
        "sns.countplot(x='WEATHER', hue='SEVERITYCODE', data=df)"
      ],
      "execution_count": 25,
      "outputs": [
        {
          "output_type": "execute_result",
          "data": {
            "text/plain": [
              "<matplotlib.axes._subplots.AxesSubplot at 0x7fe8afce0828>"
            ]
          },
          "metadata": {
            "tags": []
          },
          "execution_count": 25
        },
        {
          "output_type": "display_data",
          "data": {
            "image/png": "[encoded data removed]",
            "text/plain": [
              "<Figure size 1152x576 with 1 Axes>"
            ]
          },
          "metadata": {
            "tags": []
          }
        }
      ]
    },
    {
      "cell_type": "code",
      "metadata": {
        "id": "S3FIrjCyi6Dc",
        "colab_type": "code",
        "colab": {
          "base_uri": "https://localhost:8080/",
          "height": 239
        },
        "outputId": "16d8f5e5-a65a-469b-e268-41860d836d3c"
      },
      "source": [
        "x, y = 'PEDCOUNT', 'SEVERITYCODE'\n",
        "\n",
        "(df\n",
        ".groupby(x)[y]\n",
        ".value_counts(normalize=True)\n",
        ".mul(100)\n",
        ".rename('percent')\n",
        ".reset_index()\n",
        ".pipe((sns.catplot,'data'), x=x,y='percent',hue=y,kind='bar', height=3, aspect=3))"
      ],
      "execution_count": 51,
      "outputs": [
        {
          "output_type": "execute_result",
          "data": {
            "text/plain": [
              "<seaborn.axisgrid.FacetGrid at 0x7fe8af8ac400>"
            ]
          },
          "metadata": {
            "tags": []
          },
          "execution_count": 51
        },
        {
          "output_type": "display_data",
          "data": {
            "image/png": "[encoded data removed]",
            "text/plain": [
              "<Figure size 747.925x216 with 1 Axes>"
            ]
          },
          "metadata": {
            "tags": []
          }
        }
      ]
    },
    {
      "cell_type": "code",
      "metadata": {
        "id": "-eyJD4GijZIr",
        "colab_type": "code",
        "colab": {
          "base_uri": "https://localhost:8080/",
          "height": 239
        },
        "outputId": "a58c3f8c-d821-45f1-b664-9eadc81d82de"
      },
      "source": [
        "x, y = 'PEDCYLCOUNT', 'SEVERITYCODE'\n",
        "\n",
        "(df\n",
        ".groupby(x)[y]\n",
        ".value_counts(normalize=True)\n",
        ".mul(100)\n",
        ".rename('percent')\n",
        ".reset_index()\n",
        ".pipe((sns.catplot,'data'), x=x,y='percent',hue=y,kind='bar', height=3, aspect=3))"
      ],
      "execution_count": 52,
      "outputs": [
        {
          "output_type": "execute_result",
          "data": {
            "text/plain": [
              "<seaborn.axisgrid.FacetGrid at 0x7fe8af7e8940>"
            ]
          },
          "metadata": {
            "tags": []
          },
          "execution_count": 52
        },
        {
          "output_type": "display_data",
          "data": {
            "image/png": "[encoded data removed]",
            "text/plain": [
              "<Figure size 747.925x216 with 1 Axes>"
            ]
          },
          "metadata": {
            "tags": []
          }
        }
      ]
    },
    {
      "cell_type": "markdown",
      "metadata": {
        "id": "oRDzlcFXN7-1",
        "colab_type": "text"
      },
      "source": [
        "Let's quickly examine the data of our description fields to see if there's anything worth parsing."
      ]
    },
    {
      "cell_type": "code",
      "metadata": {
        "id": "-58AgiHgNT19",
        "colab_type": "code",
        "colab": {
          "base_uri": "https://localhost:8080/",
          "height": 225
        },
        "outputId": "4b683caa-af05-4c19-ec7f-7e6fce46bdf3"
      },
      "source": [
        "df['SDOT_COLDESC']"
      ],
      "execution_count": 26,
      "outputs": [
        {
          "output_type": "execute_result",
          "data": {
            "text/plain": [
              "0         MOTOR VEHICLE STRUCK MOTOR VEHICLE, FRONT END ...\n",
              "1         MOTOR VEHICLE STRUCK MOTOR VEHICLE, LEFT SIDE ...\n",
              "2              MOTOR VEHICLE STRUCK MOTOR VEHICLE, REAR END\n",
              "3         MOTOR VEHICLE STRUCK MOTOR VEHICLE, FRONT END ...\n",
              "4         MOTOR VEHICLE STRUCK MOTOR VEHICLE, FRONT END ...\n",
              "                                ...                        \n",
              "194668    MOTOR VEHICLE STRUCK MOTOR VEHICLE, FRONT END ...\n",
              "194669         MOTOR VEHICLE STRUCK MOTOR VEHICLE, REAR END\n",
              "194670    MOTOR VEHICLE STRUCK MOTOR VEHICLE, FRONT END ...\n",
              "194671    PEDALCYCLIST STRUCK MOTOR VEHICLE FRONT END AT...\n",
              "194672         MOTOR VEHICLE STRUCK MOTOR VEHICLE, REAR END\n",
              "Name: SDOT_COLDESC, Length: 194621, dtype: object"
            ]
          },
          "metadata": {
            "tags": []
          },
          "execution_count": 26
        }
      ]
    },
    {
      "cell_type": "code",
      "metadata": {
        "id": "Y5jxot4nNb9i",
        "colab_type": "code",
        "colab": {
          "base_uri": "https://localhost:8080/",
          "height": 225
        },
        "outputId": "292f4ecf-a76c-4841-e7d8-e5c33f8524de"
      },
      "source": [
        "df['ST_COLDESC']"
      ],
      "execution_count": 27,
      "outputs": [
        {
          "output_type": "execute_result",
          "data": {
            "text/plain": [
              "0                                         Entering at angle\n",
              "1         From same direction - both going straight - bo...\n",
              "2                                    One parked--one moving\n",
              "3                          From same direction - all others\n",
              "4                                         Entering at angle\n",
              "                                ...                        \n",
              "194668      From opposite direction - both moving - head-on\n",
              "194669    From same direction - both going straight - bo...\n",
              "194670    From opposite direction - one left turn - one ...\n",
              "194671                         Vehicle Strikes Pedalcyclist\n",
              "194672    From same direction - both going straight - on...\n",
              "Name: ST_COLDESC, Length: 194621, dtype: object"
            ]
          },
          "metadata": {
            "tags": []
          },
          "execution_count": 27
        }
      ]
    },
    {
      "cell_type": "markdown",
      "metadata": {
        "id": "12WsZ_6eOBhj",
        "colab_type": "text"
      },
      "source": [
        "Let's keep the SDOT_COLDESC field as it contains data that isn't captured specifically in other field. We'll also get rid of SDOT_COLCODE since it maps to SDOT_COLDESC but the latter is more readable."
      ]
    },
    {
      "cell_type": "code",
      "metadata": {
        "id": "q3bMzsiJOIzo",
        "colab_type": "code",
        "colab": {}
      },
      "source": [
        "df = df.drop(['ST_COLDESC', 'SDOT_COLCODE'], axis=1)"
      ],
      "execution_count": 28,
      "outputs": []
    },
    {
      "cell_type": "code",
      "metadata": {
        "id": "71rg6kxSO0K3",
        "colab_type": "code",
        "colab": {
          "base_uri": "https://localhost:8080/",
          "height": 707
        },
        "outputId": "fb380c33-3afd-432e-8a0f-b1eb41dd1f68"
      },
      "source": [
        "df.head()"
      ],
      "execution_count": 29,
      "outputs": [
        {
          "output_type": "execute_result",
          "data": {
            "text/html": [
              "<div>\n",
              "<style scoped>\n",
              "    .dataframe tbody tr th:only-of-type {\n",
              "        vertical-align: middle;\n",
              "    }\n",
              "\n",
              "    .dataframe tbody tr th {\n",
              "        vertical-align: top;\n",
              "    }\n",
              "\n",
              "    .dataframe thead th {\n",
              "        text-align: right;\n",
              "    }\n",
              "</style>\n",
              "<table border=\"1\" class=\"dataframe\">\n",
              "  <thead>\n",
              "    <tr style=\"text-align: right;\">\n",
              "      <th></th>\n",
              "      <th>SEVERITYCODE</th>\n",
              "      <th>X</th>\n",
              "      <th>Y</th>\n",
              "      <th>ADDRTYPE</th>\n",
              "      <th>LOCATION</th>\n",
              "      <th>COLLISIONTYPE</th>\n",
              "      <th>PERSONCOUNT</th>\n",
              "      <th>PEDCOUNT</th>\n",
              "      <th>PEDCYLCOUNT</th>\n",
              "      <th>VEHCOUNT</th>\n",
              "      <th>INCDTTM</th>\n",
              "      <th>JUNCTIONTYPE</th>\n",
              "      <th>SDOT_COLDESC</th>\n",
              "      <th>INATTENTIONIND</th>\n",
              "      <th>UNDERINFL</th>\n",
              "      <th>WEATHER</th>\n",
              "      <th>ROADCOND</th>\n",
              "      <th>LIGHTCOND</th>\n",
              "      <th>PEDROWNOTGRNT</th>\n",
              "      <th>SPEEDING</th>\n",
              "      <th>HITPARKEDCAR</th>\n",
              "    </tr>\n",
              "  </thead>\n",
              "  <tbody>\n",
              "    <tr>\n",
              "      <th>0</th>\n",
              "      <td>1</td>\n",
              "      <td>-122.323148</td>\n",
              "      <td>47.703140</td>\n",
              "      <td>Intersection</td>\n",
              "      <td>5TH AVE NE AND NE 103RD ST</td>\n",
              "      <td>Angles</td>\n",
              "      <td>2</td>\n",
              "      <td>0</td>\n",
              "      <td>0</td>\n",
              "      <td>2</td>\n",
              "      <td>3/27/2013 2:54:00 PM</td>\n",
              "      <td>At Intersection (intersection related)</td>\n",
              "      <td>MOTOR VEHICLE STRUCK MOTOR VEHICLE, FRONT END ...</td>\n",
              "      <td>0</td>\n",
              "      <td>0</td>\n",
              "      <td>Overcast</td>\n",
              "      <td>Wet</td>\n",
              "      <td>Daylight</td>\n",
              "      <td>0</td>\n",
              "      <td>0</td>\n",
              "      <td>0</td>\n",
              "    </tr>\n",
              "    <tr>\n",
              "      <th>1</th>\n",
              "      <td>0</td>\n",
              "      <td>-122.347294</td>\n",
              "      <td>47.647172</td>\n",
              "      <td>Block</td>\n",
              "      <td>AURORA BR BETWEEN RAYE ST AND BRIDGE WAY N</td>\n",
              "      <td>Sideswipe</td>\n",
              "      <td>2</td>\n",
              "      <td>0</td>\n",
              "      <td>0</td>\n",
              "      <td>2</td>\n",
              "      <td>12/20/2006 6:55:00 PM</td>\n",
              "      <td>Mid-Block (not related to intersection)</td>\n",
              "      <td>MOTOR VEHICLE STRUCK MOTOR VEHICLE, LEFT SIDE ...</td>\n",
              "      <td>0</td>\n",
              "      <td>0</td>\n",
              "      <td>Raining</td>\n",
              "      <td>Wet</td>\n",
              "      <td>Dark - Street Lights On</td>\n",
              "      <td>0</td>\n",
              "      <td>0</td>\n",
              "      <td>0</td>\n",
              "    </tr>\n",
              "    <tr>\n",
              "      <th>2</th>\n",
              "      <td>0</td>\n",
              "      <td>-122.334540</td>\n",
              "      <td>47.607871</td>\n",
              "      <td>Block</td>\n",
              "      <td>4TH AVE BETWEEN SENECA ST AND UNIVERSITY ST</td>\n",
              "      <td>Parked Car</td>\n",
              "      <td>4</td>\n",
              "      <td>0</td>\n",
              "      <td>0</td>\n",
              "      <td>3</td>\n",
              "      <td>11/18/2004 10:20:00 AM</td>\n",
              "      <td>Mid-Block (not related to intersection)</td>\n",
              "      <td>MOTOR VEHICLE STRUCK MOTOR VEHICLE, REAR END</td>\n",
              "      <td>0</td>\n",
              "      <td>0</td>\n",
              "      <td>Overcast</td>\n",
              "      <td>Dry</td>\n",
              "      <td>Daylight</td>\n",
              "      <td>0</td>\n",
              "      <td>0</td>\n",
              "      <td>0</td>\n",
              "    </tr>\n",
              "    <tr>\n",
              "      <th>3</th>\n",
              "      <td>0</td>\n",
              "      <td>-122.334803</td>\n",
              "      <td>47.604803</td>\n",
              "      <td>Block</td>\n",
              "      <td>2ND AVE BETWEEN MARION ST AND MADISON ST</td>\n",
              "      <td>Other</td>\n",
              "      <td>3</td>\n",
              "      <td>0</td>\n",
              "      <td>0</td>\n",
              "      <td>3</td>\n",
              "      <td>3/29/2013 9:26:00 AM</td>\n",
              "      <td>Mid-Block (not related to intersection)</td>\n",
              "      <td>MOTOR VEHICLE STRUCK MOTOR VEHICLE, FRONT END ...</td>\n",
              "      <td>0</td>\n",
              "      <td>0</td>\n",
              "      <td>Clear</td>\n",
              "      <td>Dry</td>\n",
              "      <td>Daylight</td>\n",
              "      <td>0</td>\n",
              "      <td>0</td>\n",
              "      <td>0</td>\n",
              "    </tr>\n",
              "    <tr>\n",
              "      <th>4</th>\n",
              "      <td>1</td>\n",
              "      <td>-122.306426</td>\n",
              "      <td>47.545739</td>\n",
              "      <td>Intersection</td>\n",
              "      <td>SWIFT AVE S AND SWIFT AV OFF RP</td>\n",
              "      <td>Angles</td>\n",
              "      <td>2</td>\n",
              "      <td>0</td>\n",
              "      <td>0</td>\n",
              "      <td>2</td>\n",
              "      <td>1/28/2004 8:04:00 AM</td>\n",
              "      <td>At Intersection (intersection related)</td>\n",
              "      <td>MOTOR VEHICLE STRUCK MOTOR VEHICLE, FRONT END ...</td>\n",
              "      <td>0</td>\n",
              "      <td>0</td>\n",
              "      <td>Raining</td>\n",
              "      <td>Wet</td>\n",
              "      <td>Daylight</td>\n",
              "      <td>0</td>\n",
              "      <td>0</td>\n",
              "      <td>0</td>\n",
              "    </tr>\n",
              "  </tbody>\n",
              "</table>\n",
              "</div>"
            ],
            "text/plain": [
              "   SEVERITYCODE           X          Y  ... PEDROWNOTGRNT SPEEDING HITPARKEDCAR\n",
              "0             1 -122.323148  47.703140  ...             0        0            0\n",
              "1             0 -122.347294  47.647172  ...             0        0            0\n",
              "2             0 -122.334540  47.607871  ...             0        0            0\n",
              "3             0 -122.334803  47.604803  ...             0        0            0\n",
              "4             1 -122.306426  47.545739  ...             0        0            0\n",
              "\n",
              "[5 rows x 21 columns]"
            ]
          },
          "metadata": {
            "tags": []
          },
          "execution_count": 29
        }
      ]
    },
    {
      "cell_type": "code",
      "metadata": {
        "id": "MwveOMDXXW3b",
        "colab_type": "code",
        "colab": {}
      },
      "source": [
        "df['INCDTTM'] = pd.to_datetime(df['INCDTTM'])"
      ],
      "execution_count": 30,
      "outputs": []
    },
    {
      "cell_type": "code",
      "metadata": {
        "id": "tXfDUSFLu8lh",
        "colab_type": "code",
        "colab": {
          "base_uri": "https://localhost:8080/",
          "height": 519
        },
        "outputId": "c996bff9-406a-4581-bd78-f41018ee88a7"
      },
      "source": [
        "df['DAY'] = df['INCDTTM'].dt.dayofweek\n",
        "df['DAY'].value_counts()\n",
        "\n",
        "sns.countplot(x='DAY', hue='SEVERITYCODE', data=df)"
      ],
      "execution_count": 31,
      "outputs": [
        {
          "output_type": "execute_result",
          "data": {
            "text/plain": [
              "<matplotlib.axes._subplots.AxesSubplot at 0x7fe8afd300b8>"
            ]
          },
          "metadata": {
            "tags": []
          },
          "execution_count": 31
        },
        {
          "output_type": "display_data",
          "data": {
            "image/png": "[encoded data removed]",
            "text/plain": [
              "<Figure size 1152x576 with 1 Axes>"
            ]
          },
          "metadata": {
            "tags": []
          }
        }
      ]
    },
    {
      "cell_type": "markdown",
      "metadata": {
        "id": "TXVYJUXBvzAX",
        "colab_type": "text"
      },
      "source": [
        "It doesn't look like there's any kind of correlation between day of the week and accident severity. Let's check the time."
      ]
    },
    {
      "cell_type": "code",
      "metadata": {
        "id": "n-_kxu5Lv5Wm",
        "colab_type": "code",
        "colab": {
          "base_uri": "https://localhost:8080/",
          "height": 519
        },
        "outputId": "c81f4171-19dc-41d6-be54-0110e238df0a"
      },
      "source": [
        "df['TIME'] = df['INCDTTM'].dt.strftime('%H')\n",
        "\n",
        "sns.countplot(x='TIME', hue='SEVERITYCODE', data=df)"
      ],
      "execution_count": 32,
      "outputs": [
        {
          "output_type": "execute_result",
          "data": {
            "text/plain": [
              "<matplotlib.axes._subplots.AxesSubplot at 0x7fe8af12bdd8>"
            ]
          },
          "metadata": {
            "tags": []
          },
          "execution_count": 32
        },
        {
          "output_type": "display_data",
          "data": {
            "image/png": "[encoded data removed]",
            "text/plain": [
              "<Figure size 1152x576 with 1 Axes>"
            ]
          },
          "metadata": {
            "tags": []
          }
        }
      ]
    },
    {
      "cell_type": "markdown",
      "metadata": {
        "id": "ZvR8C__kxuAN",
        "colab_type": "text"
      },
      "source": [
        "Hm, it doesn't look like there's a correlation here, either, and since the data contains a value for light conditions, that might serve as a more useful data point, anyhow. We can leave these out. Let's pre-process the data now.\n"
      ]
    },
    {
      "cell_type": "code",
      "metadata": {
        "id": "tm_3U-twx4Gg",
        "colab_type": "code",
        "colab": {
          "base_uri": "https://localhost:8080/",
          "height": 707
        },
        "outputId": "247a5d71-3b2c-4437-c5d6-fd6b254e9df2"
      },
      "source": [
        "df = df.drop(['X', 'Y', 'LOCATION', 'INCDTTM', 'JUNCTIONTYPE', 'DAY', 'TIME'], axis=1)\n",
        "df.head()\n"
      ],
      "execution_count": 33,
      "outputs": [
        {
          "output_type": "execute_result",
          "data": {
            "text/html": [
              "<div>\n",
              "<style scoped>\n",
              "    .dataframe tbody tr th:only-of-type {\n",
              "        vertical-align: middle;\n",
              "    }\n",
              "\n",
              "    .dataframe tbody tr th {\n",
              "        vertical-align: top;\n",
              "    }\n",
              "\n",
              "    .dataframe thead th {\n",
              "        text-align: right;\n",
              "    }\n",
              "</style>\n",
              "<table border=\"1\" class=\"dataframe\">\n",
              "  <thead>\n",
              "    <tr style=\"text-align: right;\">\n",
              "      <th></th>\n",
              "      <th>SEVERITYCODE</th>\n",
              "      <th>ADDRTYPE</th>\n",
              "      <th>COLLISIONTYPE</th>\n",
              "      <th>PERSONCOUNT</th>\n",
              "      <th>PEDCOUNT</th>\n",
              "      <th>PEDCYLCOUNT</th>\n",
              "      <th>VEHCOUNT</th>\n",
              "      <th>SDOT_COLDESC</th>\n",
              "      <th>INATTENTIONIND</th>\n",
              "      <th>UNDERINFL</th>\n",
              "      <th>WEATHER</th>\n",
              "      <th>ROADCOND</th>\n",
              "      <th>LIGHTCOND</th>\n",
              "      <th>PEDROWNOTGRNT</th>\n",
              "      <th>SPEEDING</th>\n",
              "      <th>HITPARKEDCAR</th>\n",
              "    </tr>\n",
              "  </thead>\n",
              "  <tbody>\n",
              "    <tr>\n",
              "      <th>0</th>\n",
              "      <td>1</td>\n",
              "      <td>Intersection</td>\n",
              "      <td>Angles</td>\n",
              "      <td>2</td>\n",
              "      <td>0</td>\n",
              "      <td>0</td>\n",
              "      <td>2</td>\n",
              "      <td>MOTOR VEHICLE STRUCK MOTOR VEHICLE, FRONT END ...</td>\n",
              "      <td>0</td>\n",
              "      <td>0</td>\n",
              "      <td>Overcast</td>\n",
              "      <td>Wet</td>\n",
              "      <td>Daylight</td>\n",
              "      <td>0</td>\n",
              "      <td>0</td>\n",
              "      <td>0</td>\n",
              "    </tr>\n",
              "    <tr>\n",
              "      <th>1</th>\n",
              "      <td>0</td>\n",
              "      <td>Block</td>\n",
              "      <td>Sideswipe</td>\n",
              "      <td>2</td>\n",
              "      <td>0</td>\n",
              "      <td>0</td>\n",
              "      <td>2</td>\n",
              "      <td>MOTOR VEHICLE STRUCK MOTOR VEHICLE, LEFT SIDE ...</td>\n",
              "      <td>0</td>\n",
              "      <td>0</td>\n",
              "      <td>Raining</td>\n",
              "      <td>Wet</td>\n",
              "      <td>Dark - Street Lights On</td>\n",
              "      <td>0</td>\n",
              "      <td>0</td>\n",
              "      <td>0</td>\n",
              "    </tr>\n",
              "    <tr>\n",
              "      <th>2</th>\n",
              "      <td>0</td>\n",
              "      <td>Block</td>\n",
              "      <td>Parked Car</td>\n",
              "      <td>4</td>\n",
              "      <td>0</td>\n",
              "      <td>0</td>\n",
              "      <td>3</td>\n",
              "      <td>MOTOR VEHICLE STRUCK MOTOR VEHICLE, REAR END</td>\n",
              "      <td>0</td>\n",
              "      <td>0</td>\n",
              "      <td>Overcast</td>\n",
              "      <td>Dry</td>\n",
              "      <td>Daylight</td>\n",
              "      <td>0</td>\n",
              "      <td>0</td>\n",
              "      <td>0</td>\n",
              "    </tr>\n",
              "    <tr>\n",
              "      <th>3</th>\n",
              "      <td>0</td>\n",
              "      <td>Block</td>\n",
              "      <td>Other</td>\n",
              "      <td>3</td>\n",
              "      <td>0</td>\n",
              "      <td>0</td>\n",
              "      <td>3</td>\n",
              "      <td>MOTOR VEHICLE STRUCK MOTOR VEHICLE, FRONT END ...</td>\n",
              "      <td>0</td>\n",
              "      <td>0</td>\n",
              "      <td>Clear</td>\n",
              "      <td>Dry</td>\n",
              "      <td>Daylight</td>\n",
              "      <td>0</td>\n",
              "      <td>0</td>\n",
              "      <td>0</td>\n",
              "    </tr>\n",
              "    <tr>\n",
              "      <th>4</th>\n",
              "      <td>1</td>\n",
              "      <td>Intersection</td>\n",
              "      <td>Angles</td>\n",
              "      <td>2</td>\n",
              "      <td>0</td>\n",
              "      <td>0</td>\n",
              "      <td>2</td>\n",
              "      <td>MOTOR VEHICLE STRUCK MOTOR VEHICLE, FRONT END ...</td>\n",
              "      <td>0</td>\n",
              "      <td>0</td>\n",
              "      <td>Raining</td>\n",
              "      <td>Wet</td>\n",
              "      <td>Daylight</td>\n",
              "      <td>0</td>\n",
              "      <td>0</td>\n",
              "      <td>0</td>\n",
              "    </tr>\n",
              "  </tbody>\n",
              "</table>\n",
              "</div>"
            ],
            "text/plain": [
              "   SEVERITYCODE      ADDRTYPE  ... SPEEDING  HITPARKEDCAR\n",
              "0             1  Intersection  ...        0             0\n",
              "1             0         Block  ...        0             0\n",
              "2             0         Block  ...        0             0\n",
              "3             0         Block  ...        0             0\n",
              "4             1  Intersection  ...        0             0\n",
              "\n",
              "[5 rows x 16 columns]"
            ]
          },
          "metadata": {
            "tags": []
          },
          "execution_count": 33
        }
      ]
    },
    {
      "cell_type": "markdown",
      "metadata": {
        "id": "aCjR3jx34OXd",
        "colab_type": "text"
      },
      "source": [
        "I see that there is both a feature for 'HITPARKEDCAR', as well as a parked car accident type. If there is a high correlation between these two, I can remove one."
      ]
    },
    {
      "cell_type": "code",
      "metadata": {
        "id": "eKZfx_nI1IlV",
        "colab_type": "code",
        "colab": {
          "base_uri": "https://localhost:8080/",
          "height": 725
        },
        "outputId": "c8663a93-17d5-4ab2-f460-f827a25b3c33"
      },
      "source": [
        "df = pd.get_dummies(df, columns=['COLLISIONTYPE'])\n",
        "\n",
        "df.head()"
      ],
      "execution_count": 34,
      "outputs": [
        {
          "output_type": "execute_result",
          "data": {
            "text/html": [
              "<div>\n",
              "<style scoped>\n",
              "    .dataframe tbody tr th:only-of-type {\n",
              "        vertical-align: middle;\n",
              "    }\n",
              "\n",
              "    .dataframe tbody tr th {\n",
              "        vertical-align: top;\n",
              "    }\n",
              "\n",
              "    .dataframe thead th {\n",
              "        text-align: right;\n",
              "    }\n",
              "</style>\n",
              "<table border=\"1\" class=\"dataframe\">\n",
              "  <thead>\n",
              "    <tr style=\"text-align: right;\">\n",
              "      <th></th>\n",
              "      <th>SEVERITYCODE</th>\n",
              "      <th>ADDRTYPE</th>\n",
              "      <th>PERSONCOUNT</th>\n",
              "      <th>PEDCOUNT</th>\n",
              "      <th>PEDCYLCOUNT</th>\n",
              "      <th>VEHCOUNT</th>\n",
              "      <th>SDOT_COLDESC</th>\n",
              "      <th>INATTENTIONIND</th>\n",
              "      <th>UNDERINFL</th>\n",
              "      <th>WEATHER</th>\n",
              "      <th>ROADCOND</th>\n",
              "      <th>LIGHTCOND</th>\n",
              "      <th>PEDROWNOTGRNT</th>\n",
              "      <th>SPEEDING</th>\n",
              "      <th>HITPARKEDCAR</th>\n",
              "      <th>COLLISIONTYPE_Angles</th>\n",
              "      <th>COLLISIONTYPE_Cycles</th>\n",
              "      <th>COLLISIONTYPE_Head On</th>\n",
              "      <th>COLLISIONTYPE_Left Turn</th>\n",
              "      <th>COLLISIONTYPE_Other</th>\n",
              "      <th>COLLISIONTYPE_Parked Car</th>\n",
              "      <th>COLLISIONTYPE_Pedestrian</th>\n",
              "      <th>COLLISIONTYPE_Rear Ended</th>\n",
              "      <th>COLLISIONTYPE_Right Turn</th>\n",
              "      <th>COLLISIONTYPE_Sideswipe</th>\n",
              "    </tr>\n",
              "  </thead>\n",
              "  <tbody>\n",
              "    <tr>\n",
              "      <th>0</th>\n",
              "      <td>1</td>\n",
              "      <td>Intersection</td>\n",
              "      <td>2</td>\n",
              "      <td>0</td>\n",
              "      <td>0</td>\n",
              "      <td>2</td>\n",
              "      <td>MOTOR VEHICLE STRUCK MOTOR VEHICLE, FRONT END ...</td>\n",
              "      <td>0</td>\n",
              "      <td>0</td>\n",
              "      <td>Overcast</td>\n",
              "      <td>Wet</td>\n",
              "      <td>Daylight</td>\n",
              "      <td>0</td>\n",
              "      <td>0</td>\n",
              "      <td>0</td>\n",
              "      <td>1</td>\n",
              "      <td>0</td>\n",
              "      <td>0</td>\n",
              "      <td>0</td>\n",
              "      <td>0</td>\n",
              "      <td>0</td>\n",
              "      <td>0</td>\n",
              "      <td>0</td>\n",
              "      <td>0</td>\n",
              "      <td>0</td>\n",
              "    </tr>\n",
              "    <tr>\n",
              "      <th>1</th>\n",
              "      <td>0</td>\n",
              "      <td>Block</td>\n",
              "      <td>2</td>\n",
              "      <td>0</td>\n",
              "      <td>0</td>\n",
              "      <td>2</td>\n",
              "      <td>MOTOR VEHICLE STRUCK MOTOR VEHICLE, LEFT SIDE ...</td>\n",
              "      <td>0</td>\n",
              "      <td>0</td>\n",
              "      <td>Raining</td>\n",
              "      <td>Wet</td>\n",
              "      <td>Dark - Street Lights On</td>\n",
              "      <td>0</td>\n",
              "      <td>0</td>\n",
              "      <td>0</td>\n",
              "      <td>0</td>\n",
              "      <td>0</td>\n",
              "      <td>0</td>\n",
              "      <td>0</td>\n",
              "      <td>0</td>\n",
              "      <td>0</td>\n",
              "      <td>0</td>\n",
              "      <td>0</td>\n",
              "      <td>0</td>\n",
              "      <td>1</td>\n",
              "    </tr>\n",
              "    <tr>\n",
              "      <th>2</th>\n",
              "      <td>0</td>\n",
              "      <td>Block</td>\n",
              "      <td>4</td>\n",
              "      <td>0</td>\n",
              "      <td>0</td>\n",
              "      <td>3</td>\n",
              "      <td>MOTOR VEHICLE STRUCK MOTOR VEHICLE, REAR END</td>\n",
              "      <td>0</td>\n",
              "      <td>0</td>\n",
              "      <td>Overcast</td>\n",
              "      <td>Dry</td>\n",
              "      <td>Daylight</td>\n",
              "      <td>0</td>\n",
              "      <td>0</td>\n",
              "      <td>0</td>\n",
              "      <td>0</td>\n",
              "      <td>0</td>\n",
              "      <td>0</td>\n",
              "      <td>0</td>\n",
              "      <td>0</td>\n",
              "      <td>1</td>\n",
              "      <td>0</td>\n",
              "      <td>0</td>\n",
              "      <td>0</td>\n",
              "      <td>0</td>\n",
              "    </tr>\n",
              "    <tr>\n",
              "      <th>3</th>\n",
              "      <td>0</td>\n",
              "      <td>Block</td>\n",
              "      <td>3</td>\n",
              "      <td>0</td>\n",
              "      <td>0</td>\n",
              "      <td>3</td>\n",
              "      <td>MOTOR VEHICLE STRUCK MOTOR VEHICLE, FRONT END ...</td>\n",
              "      <td>0</td>\n",
              "      <td>0</td>\n",
              "      <td>Clear</td>\n",
              "      <td>Dry</td>\n",
              "      <td>Daylight</td>\n",
              "      <td>0</td>\n",
              "      <td>0</td>\n",
              "      <td>0</td>\n",
              "      <td>0</td>\n",
              "      <td>0</td>\n",
              "      <td>0</td>\n",
              "      <td>0</td>\n",
              "      <td>1</td>\n",
              "      <td>0</td>\n",
              "      <td>0</td>\n",
              "      <td>0</td>\n",
              "      <td>0</td>\n",
              "      <td>0</td>\n",
              "    </tr>\n",
              "    <tr>\n",
              "      <th>4</th>\n",
              "      <td>1</td>\n",
              "      <td>Intersection</td>\n",
              "      <td>2</td>\n",
              "      <td>0</td>\n",
              "      <td>0</td>\n",
              "      <td>2</td>\n",
              "      <td>MOTOR VEHICLE STRUCK MOTOR VEHICLE, FRONT END ...</td>\n",
              "      <td>0</td>\n",
              "      <td>0</td>\n",
              "      <td>Raining</td>\n",
              "      <td>Wet</td>\n",
              "      <td>Daylight</td>\n",
              "      <td>0</td>\n",
              "      <td>0</td>\n",
              "      <td>0</td>\n",
              "      <td>1</td>\n",
              "      <td>0</td>\n",
              "      <td>0</td>\n",
              "      <td>0</td>\n",
              "      <td>0</td>\n",
              "      <td>0</td>\n",
              "      <td>0</td>\n",
              "      <td>0</td>\n",
              "      <td>0</td>\n",
              "      <td>0</td>\n",
              "    </tr>\n",
              "  </tbody>\n",
              "</table>\n",
              "</div>"
            ],
            "text/plain": [
              "   SEVERITYCODE  ... COLLISIONTYPE_Sideswipe\n",
              "0             1  ...                       0\n",
              "1             0  ...                       1\n",
              "2             0  ...                       0\n",
              "3             0  ...                       0\n",
              "4             1  ...                       0\n",
              "\n",
              "[5 rows x 25 columns]"
            ]
          },
          "metadata": {
            "tags": []
          },
          "execution_count": 34
        }
      ]
    },
    {
      "cell_type": "code",
      "metadata": {
        "id": "fyodEotz3Qyr",
        "colab_type": "code",
        "colab": {
          "base_uri": "https://localhost:8080/",
          "height": 734
        },
        "outputId": "b0625164-478f-4e52-a909-f7a41fb546a2"
      },
      "source": [
        "df.corr(method='pearson', min_periods=1)"
      ],
      "execution_count": 35,
      "outputs": [
        {
          "output_type": "execute_result",
          "data": {
            "text/html": [
              "<div>\n",
              "<style scoped>\n",
              "    .dataframe tbody tr th:only-of-type {\n",
              "        vertical-align: middle;\n",
              "    }\n",
              "\n",
              "    .dataframe tbody tr th {\n",
              "        vertical-align: top;\n",
              "    }\n",
              "\n",
              "    .dataframe thead th {\n",
              "        text-align: right;\n",
              "    }\n",
              "</style>\n",
              "<table border=\"1\" class=\"dataframe\">\n",
              "  <thead>\n",
              "    <tr style=\"text-align: right;\">\n",
              "      <th></th>\n",
              "      <th>SEVERITYCODE</th>\n",
              "      <th>PERSONCOUNT</th>\n",
              "      <th>PEDCOUNT</th>\n",
              "      <th>PEDCYLCOUNT</th>\n",
              "      <th>VEHCOUNT</th>\n",
              "      <th>INATTENTIONIND</th>\n",
              "      <th>UNDERINFL</th>\n",
              "      <th>PEDROWNOTGRNT</th>\n",
              "      <th>SPEEDING</th>\n",
              "      <th>HITPARKEDCAR</th>\n",
              "      <th>COLLISIONTYPE_Angles</th>\n",
              "      <th>COLLISIONTYPE_Cycles</th>\n",
              "      <th>COLLISIONTYPE_Head On</th>\n",
              "      <th>COLLISIONTYPE_Left Turn</th>\n",
              "      <th>COLLISIONTYPE_Other</th>\n",
              "      <th>COLLISIONTYPE_Parked Car</th>\n",
              "      <th>COLLISIONTYPE_Pedestrian</th>\n",
              "      <th>COLLISIONTYPE_Rear Ended</th>\n",
              "      <th>COLLISIONTYPE_Right Turn</th>\n",
              "      <th>COLLISIONTYPE_Sideswipe</th>\n",
              "    </tr>\n",
              "  </thead>\n",
              "  <tbody>\n",
              "    <tr>\n",
              "      <th>SEVERITYCODE</th>\n",
              "      <td>1.000000</td>\n",
              "      <td>0.130889</td>\n",
              "      <td>0.246308</td>\n",
              "      <td>0.214244</td>\n",
              "      <td>-0.054713</td>\n",
              "      <td>0.046329</td>\n",
              "      <td>0.044336</td>\n",
              "      <td>0.206269</td>\n",
              "      <td>0.038967</td>\n",
              "      <td>-0.101476</td>\n",
              "      <td>0.095577</td>\n",
              "      <td>0.213298</td>\n",
              "      <td>0.029538</td>\n",
              "      <td>0.057715</td>\n",
              "      <td>-0.044299</td>\n",
              "      <td>-0.304163</td>\n",
              "      <td>0.245409</td>\n",
              "      <td>0.132352</td>\n",
              "      <td>-0.025203</td>\n",
              "      <td>-0.116652</td>\n",
              "    </tr>\n",
              "    <tr>\n",
              "      <th>PERSONCOUNT</th>\n",
              "      <td>0.130889</td>\n",
              "      <td>1.000000</td>\n",
              "      <td>-0.023463</td>\n",
              "      <td>-0.038764</td>\n",
              "      <td>0.380511</td>\n",
              "      <td>0.077370</td>\n",
              "      <td>0.022418</td>\n",
              "      <td>-0.027453</td>\n",
              "      <td>-0.002942</td>\n",
              "      <td>-0.052761</td>\n",
              "      <td>0.092516</td>\n",
              "      <td>-0.039631</td>\n",
              "      <td>0.021875</td>\n",
              "      <td>0.053152</td>\n",
              "      <td>-0.192085</td>\n",
              "      <td>-0.089349</td>\n",
              "      <td>-0.037344</td>\n",
              "      <td>0.139328</td>\n",
              "      <td>0.025003</td>\n",
              "      <td>0.042726</td>\n",
              "    </tr>\n",
              "    <tr>\n",
              "      <th>PEDCOUNT</th>\n",
              "      <td>0.246308</td>\n",
              "      <td>-0.023463</td>\n",
              "      <td>1.000000</td>\n",
              "      <td>-0.016914</td>\n",
              "      <td>-0.261340</td>\n",
              "      <td>-0.004299</td>\n",
              "      <td>0.016600</td>\n",
              "      <td>0.494593</td>\n",
              "      <td>-0.032836</td>\n",
              "      <td>-0.035258</td>\n",
              "      <td>-0.083194</td>\n",
              "      <td>-0.016248</td>\n",
              "      <td>-0.019214</td>\n",
              "      <td>-0.049348</td>\n",
              "      <td>-0.072587</td>\n",
              "      <td>-0.102858</td>\n",
              "      <td>0.946493</td>\n",
              "      <td>-0.084513</td>\n",
              "      <td>-0.022216</td>\n",
              "      <td>-0.059352</td>\n",
              "    </tr>\n",
              "    <tr>\n",
              "      <th>PEDCYLCOUNT</th>\n",
              "      <td>0.214244</td>\n",
              "      <td>-0.038764</td>\n",
              "      <td>-0.016914</td>\n",
              "      <td>1.000000</td>\n",
              "      <td>-0.253822</td>\n",
              "      <td>0.004096</td>\n",
              "      <td>-0.016397</td>\n",
              "      <td>0.323752</td>\n",
              "      <td>-0.020385</td>\n",
              "      <td>-0.030179</td>\n",
              "      <td>-0.077587</td>\n",
              "      <td>0.987660</td>\n",
              "      <td>-0.017082</td>\n",
              "      <td>-0.044987</td>\n",
              "      <td>-0.068386</td>\n",
              "      <td>-0.096556</td>\n",
              "      <td>-0.031109</td>\n",
              "      <td>-0.077567</td>\n",
              "      <td>-0.020307</td>\n",
              "      <td>-0.054614</td>\n",
              "    </tr>\n",
              "    <tr>\n",
              "      <th>VEHCOUNT</th>\n",
              "      <td>-0.054713</td>\n",
              "      <td>0.380511</td>\n",
              "      <td>-0.261340</td>\n",
              "      <td>-0.253822</td>\n",
              "      <td>1.000000</td>\n",
              "      <td>0.076199</td>\n",
              "      <td>0.006581</td>\n",
              "      <td>-0.228049</td>\n",
              "      <td>-0.025748</td>\n",
              "      <td>0.048835</td>\n",
              "      <td>0.114374</td>\n",
              "      <td>-0.252801</td>\n",
              "      <td>0.033489</td>\n",
              "      <td>0.057152</td>\n",
              "      <td>-0.474542</td>\n",
              "      <td>0.204185</td>\n",
              "      <td>-0.269344</td>\n",
              "      <td>0.219975</td>\n",
              "      <td>0.020438</td>\n",
              "      <td>0.076426</td>\n",
              "    </tr>\n",
              "    <tr>\n",
              "      <th>INATTENTIONIND</th>\n",
              "      <td>0.046329</td>\n",
              "      <td>0.077370</td>\n",
              "      <td>-0.004299</td>\n",
              "      <td>0.004096</td>\n",
              "      <td>0.076199</td>\n",
              "      <td>1.000000</td>\n",
              "      <td>-0.026020</td>\n",
              "      <td>-0.026438</td>\n",
              "      <td>-0.048868</td>\n",
              "      <td>0.011991</td>\n",
              "      <td>-0.066544</td>\n",
              "      <td>0.004096</td>\n",
              "      <td>-0.011801</td>\n",
              "      <td>-0.052811</td>\n",
              "      <td>-0.063581</td>\n",
              "      <td>-0.034116</td>\n",
              "      <td>-0.004213</td>\n",
              "      <td>0.204986</td>\n",
              "      <td>0.002613</td>\n",
              "      <td>-0.002571</td>\n",
              "    </tr>\n",
              "    <tr>\n",
              "      <th>UNDERINFL</th>\n",
              "      <td>0.044336</td>\n",
              "      <td>0.022418</td>\n",
              "      <td>0.016600</td>\n",
              "      <td>-0.016397</td>\n",
              "      <td>0.006581</td>\n",
              "      <td>-0.026020</td>\n",
              "      <td>1.000000</td>\n",
              "      <td>-0.017586</td>\n",
              "      <td>0.092374</td>\n",
              "      <td>0.010173</td>\n",
              "      <td>-0.040770</td>\n",
              "      <td>-0.016509</td>\n",
              "      <td>0.023284</td>\n",
              "      <td>-0.033362</td>\n",
              "      <td>0.088169</td>\n",
              "      <td>0.018631</td>\n",
              "      <td>0.015634</td>\n",
              "      <td>-0.013050</td>\n",
              "      <td>-0.019585</td>\n",
              "      <td>-0.034803</td>\n",
              "    </tr>\n",
              "    <tr>\n",
              "      <th>PEDROWNOTGRNT</th>\n",
              "      <td>0.206269</td>\n",
              "      <td>-0.027453</td>\n",
              "      <td>0.494593</td>\n",
              "      <td>0.323752</td>\n",
              "      <td>-0.228049</td>\n",
              "      <td>-0.026438</td>\n",
              "      <td>-0.017586</td>\n",
              "      <td>1.000000</td>\n",
              "      <td>-0.028411</td>\n",
              "      <td>-0.030745</td>\n",
              "      <td>-0.071475</td>\n",
              "      <td>0.325447</td>\n",
              "      <td>-0.016067</td>\n",
              "      <td>-0.041161</td>\n",
              "      <td>-0.064382</td>\n",
              "      <td>-0.089556</td>\n",
              "      <td>0.507809</td>\n",
              "      <td>-0.072123</td>\n",
              "      <td>-0.019189</td>\n",
              "      <td>-0.050387</td>\n",
              "    </tr>\n",
              "    <tr>\n",
              "      <th>SPEEDING</th>\n",
              "      <td>0.038967</td>\n",
              "      <td>-0.002942</td>\n",
              "      <td>-0.032836</td>\n",
              "      <td>-0.020385</td>\n",
              "      <td>-0.025748</td>\n",
              "      <td>-0.048868</td>\n",
              "      <td>0.092374</td>\n",
              "      <td>-0.028411</td>\n",
              "      <td>1.000000</td>\n",
              "      <td>-0.028362</td>\n",
              "      <td>-0.035904</td>\n",
              "      <td>-0.020552</td>\n",
              "      <td>0.049775</td>\n",
              "      <td>-0.040132</td>\n",
              "      <td>0.161190</td>\n",
              "      <td>-0.055736</td>\n",
              "      <td>-0.035025</td>\n",
              "      <td>0.022341</td>\n",
              "      <td>-0.020396</td>\n",
              "      <td>-0.035259</td>\n",
              "    </tr>\n",
              "    <tr>\n",
              "      <th>HITPARKEDCAR</th>\n",
              "      <td>-0.101476</td>\n",
              "      <td>-0.052761</td>\n",
              "      <td>-0.035258</td>\n",
              "      <td>-0.030179</td>\n",
              "      <td>0.048835</td>\n",
              "      <td>0.011991</td>\n",
              "      <td>0.010173</td>\n",
              "      <td>-0.030745</td>\n",
              "      <td>-0.028362</td>\n",
              "      <td>1.000000</td>\n",
              "      <td>-0.089696</td>\n",
              "      <td>-0.030368</td>\n",
              "      <td>-0.016893</td>\n",
              "      <td>-0.053240</td>\n",
              "      <td>-0.052298</td>\n",
              "      <td>0.307097</td>\n",
              "      <td>-0.036320</td>\n",
              "      <td>-0.086877</td>\n",
              "      <td>-0.023250</td>\n",
              "      <td>-0.056937</td>\n",
              "    </tr>\n",
              "    <tr>\n",
              "      <th>COLLISIONTYPE_Angles</th>\n",
              "      <td>0.095577</td>\n",
              "      <td>0.092516</td>\n",
              "      <td>-0.083194</td>\n",
              "      <td>-0.077587</td>\n",
              "      <td>0.114374</td>\n",
              "      <td>-0.066544</td>\n",
              "      <td>-0.040770</td>\n",
              "      <td>-0.071475</td>\n",
              "      <td>-0.035904</td>\n",
              "      <td>-0.089696</td>\n",
              "      <td>1.000000</td>\n",
              "      <td>-0.078747</td>\n",
              "      <td>-0.047727</td>\n",
              "      <td>-0.128120</td>\n",
              "      <td>-0.193223</td>\n",
              "      <td>-0.266261</td>\n",
              "      <td>-0.087268</td>\n",
              "      <td>-0.214506</td>\n",
              "      <td>-0.057818</td>\n",
              "      <td>-0.151373</td>\n",
              "    </tr>\n",
              "    <tr>\n",
              "      <th>COLLISIONTYPE_Cycles</th>\n",
              "      <td>0.213298</td>\n",
              "      <td>-0.039631</td>\n",
              "      <td>-0.016248</td>\n",
              "      <td>0.987660</td>\n",
              "      <td>-0.252801</td>\n",
              "      <td>0.004096</td>\n",
              "      <td>-0.016509</td>\n",
              "      <td>0.325447</td>\n",
              "      <td>-0.020552</td>\n",
              "      <td>-0.030368</td>\n",
              "      <td>-0.078747</td>\n",
              "      <td>1.000000</td>\n",
              "      <td>-0.017339</td>\n",
              "      <td>-0.046546</td>\n",
              "      <td>-0.070198</td>\n",
              "      <td>-0.096733</td>\n",
              "      <td>-0.031705</td>\n",
              "      <td>-0.077930</td>\n",
              "      <td>-0.021005</td>\n",
              "      <td>-0.054994</td>\n",
              "    </tr>\n",
              "    <tr>\n",
              "      <th>COLLISIONTYPE_Head On</th>\n",
              "      <td>0.029538</td>\n",
              "      <td>0.021875</td>\n",
              "      <td>-0.019214</td>\n",
              "      <td>-0.017082</td>\n",
              "      <td>0.033489</td>\n",
              "      <td>-0.011801</td>\n",
              "      <td>0.023284</td>\n",
              "      <td>-0.016067</td>\n",
              "      <td>0.049775</td>\n",
              "      <td>-0.016893</td>\n",
              "      <td>-0.047727</td>\n",
              "      <td>-0.017339</td>\n",
              "      <td>1.000000</td>\n",
              "      <td>-0.028211</td>\n",
              "      <td>-0.042546</td>\n",
              "      <td>-0.058628</td>\n",
              "      <td>-0.019216</td>\n",
              "      <td>-0.047232</td>\n",
              "      <td>-0.012731</td>\n",
              "      <td>-0.033331</td>\n",
              "    </tr>\n",
              "    <tr>\n",
              "      <th>COLLISIONTYPE_Left Turn</th>\n",
              "      <td>0.057715</td>\n",
              "      <td>0.053152</td>\n",
              "      <td>-0.049348</td>\n",
              "      <td>-0.044987</td>\n",
              "      <td>0.057152</td>\n",
              "      <td>-0.052811</td>\n",
              "      <td>-0.033362</td>\n",
              "      <td>-0.041161</td>\n",
              "      <td>-0.040132</td>\n",
              "      <td>-0.053240</td>\n",
              "      <td>-0.128120</td>\n",
              "      <td>-0.046546</td>\n",
              "      <td>-0.028211</td>\n",
              "      <td>1.000000</td>\n",
              "      <td>-0.114211</td>\n",
              "      <td>-0.157383</td>\n",
              "      <td>-0.051583</td>\n",
              "      <td>-0.126791</td>\n",
              "      <td>-0.034175</td>\n",
              "      <td>-0.089474</td>\n",
              "    </tr>\n",
              "    <tr>\n",
              "      <th>COLLISIONTYPE_Other</th>\n",
              "      <td>-0.044299</td>\n",
              "      <td>-0.192085</td>\n",
              "      <td>-0.072587</td>\n",
              "      <td>-0.068386</td>\n",
              "      <td>-0.474542</td>\n",
              "      <td>-0.063581</td>\n",
              "      <td>0.088169</td>\n",
              "      <td>-0.064382</td>\n",
              "      <td>0.161190</td>\n",
              "      <td>-0.052298</td>\n",
              "      <td>-0.193223</td>\n",
              "      <td>-0.070198</td>\n",
              "      <td>-0.042546</td>\n",
              "      <td>-0.114211</td>\n",
              "      <td>1.000000</td>\n",
              "      <td>-0.237355</td>\n",
              "      <td>-0.077794</td>\n",
              "      <td>-0.191219</td>\n",
              "      <td>-0.051541</td>\n",
              "      <td>-0.134940</td>\n",
              "    </tr>\n",
              "    <tr>\n",
              "      <th>COLLISIONTYPE_Parked Car</th>\n",
              "      <td>-0.304163</td>\n",
              "      <td>-0.089349</td>\n",
              "      <td>-0.102858</td>\n",
              "      <td>-0.096556</td>\n",
              "      <td>0.204185</td>\n",
              "      <td>-0.034116</td>\n",
              "      <td>0.018631</td>\n",
              "      <td>-0.089556</td>\n",
              "      <td>-0.055736</td>\n",
              "      <td>0.307097</td>\n",
              "      <td>-0.266261</td>\n",
              "      <td>-0.096733</td>\n",
              "      <td>-0.058628</td>\n",
              "      <td>-0.157383</td>\n",
              "      <td>-0.237355</td>\n",
              "      <td>1.000000</td>\n",
              "      <td>-0.107201</td>\n",
              "      <td>-0.263500</td>\n",
              "      <td>-0.071024</td>\n",
              "      <td>-0.185947</td>\n",
              "    </tr>\n",
              "    <tr>\n",
              "      <th>COLLISIONTYPE_Pedestrian</th>\n",
              "      <td>0.245409</td>\n",
              "      <td>-0.037344</td>\n",
              "      <td>0.946493</td>\n",
              "      <td>-0.031109</td>\n",
              "      <td>-0.269344</td>\n",
              "      <td>-0.004213</td>\n",
              "      <td>0.015634</td>\n",
              "      <td>0.507809</td>\n",
              "      <td>-0.035025</td>\n",
              "      <td>-0.036320</td>\n",
              "      <td>-0.087268</td>\n",
              "      <td>-0.031705</td>\n",
              "      <td>-0.019216</td>\n",
              "      <td>-0.051583</td>\n",
              "      <td>-0.077794</td>\n",
              "      <td>-0.107201</td>\n",
              "      <td>1.000000</td>\n",
              "      <td>-0.086363</td>\n",
              "      <td>-0.023278</td>\n",
              "      <td>-0.060945</td>\n",
              "    </tr>\n",
              "    <tr>\n",
              "      <th>COLLISIONTYPE_Rear Ended</th>\n",
              "      <td>0.132352</td>\n",
              "      <td>0.139328</td>\n",
              "      <td>-0.084513</td>\n",
              "      <td>-0.077567</td>\n",
              "      <td>0.219975</td>\n",
              "      <td>0.204986</td>\n",
              "      <td>-0.013050</td>\n",
              "      <td>-0.072123</td>\n",
              "      <td>0.022341</td>\n",
              "      <td>-0.086877</td>\n",
              "      <td>-0.214506</td>\n",
              "      <td>-0.077930</td>\n",
              "      <td>-0.047232</td>\n",
              "      <td>-0.126791</td>\n",
              "      <td>-0.191219</td>\n",
              "      <td>-0.263500</td>\n",
              "      <td>-0.086363</td>\n",
              "      <td>1.000000</td>\n",
              "      <td>-0.057219</td>\n",
              "      <td>-0.149803</td>\n",
              "    </tr>\n",
              "    <tr>\n",
              "      <th>COLLISIONTYPE_Right Turn</th>\n",
              "      <td>-0.025203</td>\n",
              "      <td>0.025003</td>\n",
              "      <td>-0.022216</td>\n",
              "      <td>-0.020307</td>\n",
              "      <td>0.020438</td>\n",
              "      <td>0.002613</td>\n",
              "      <td>-0.019585</td>\n",
              "      <td>-0.019189</td>\n",
              "      <td>-0.020396</td>\n",
              "      <td>-0.023250</td>\n",
              "      <td>-0.057818</td>\n",
              "      <td>-0.021005</td>\n",
              "      <td>-0.012731</td>\n",
              "      <td>-0.034175</td>\n",
              "      <td>-0.051541</td>\n",
              "      <td>-0.071024</td>\n",
              "      <td>-0.023278</td>\n",
              "      <td>-0.057219</td>\n",
              "      <td>1.000000</td>\n",
              "      <td>-0.040378</td>\n",
              "    </tr>\n",
              "    <tr>\n",
              "      <th>COLLISIONTYPE_Sideswipe</th>\n",
              "      <td>-0.116652</td>\n",
              "      <td>0.042726</td>\n",
              "      <td>-0.059352</td>\n",
              "      <td>-0.054614</td>\n",
              "      <td>0.076426</td>\n",
              "      <td>-0.002571</td>\n",
              "      <td>-0.034803</td>\n",
              "      <td>-0.050387</td>\n",
              "      <td>-0.035259</td>\n",
              "      <td>-0.056937</td>\n",
              "      <td>-0.151373</td>\n",
              "      <td>-0.054994</td>\n",
              "      <td>-0.033331</td>\n",
              "      <td>-0.089474</td>\n",
              "      <td>-0.134940</td>\n",
              "      <td>-0.185947</td>\n",
              "      <td>-0.060945</td>\n",
              "      <td>-0.149803</td>\n",
              "      <td>-0.040378</td>\n",
              "      <td>1.000000</td>\n",
              "    </tr>\n",
              "  </tbody>\n",
              "</table>\n",
              "</div>"
            ],
            "text/plain": [
              "                          SEVERITYCODE  ...  COLLISIONTYPE_Sideswipe\n",
              "SEVERITYCODE                  1.000000  ...                -0.116652\n",
              "PERSONCOUNT                   0.130889  ...                 0.042726\n",
              "PEDCOUNT                      0.246308  ...                -0.059352\n",
              "PEDCYLCOUNT                   0.214244  ...                -0.054614\n",
              "VEHCOUNT                     -0.054713  ...                 0.076426\n",
              "INATTENTIONIND                0.046329  ...                -0.002571\n",
              "UNDERINFL                     0.044336  ...                -0.034803\n",
              "PEDROWNOTGRNT                 0.206269  ...                -0.050387\n",
              "SPEEDING                      0.038967  ...                -0.035259\n",
              "HITPARKEDCAR                 -0.101476  ...                -0.056937\n",
              "COLLISIONTYPE_Angles          0.095577  ...                -0.151373\n",
              "COLLISIONTYPE_Cycles          0.213298  ...                -0.054994\n",
              "COLLISIONTYPE_Head On         0.029538  ...                -0.033331\n",
              "COLLISIONTYPE_Left Turn       0.057715  ...                -0.089474\n",
              "COLLISIONTYPE_Other          -0.044299  ...                -0.134940\n",
              "COLLISIONTYPE_Parked Car     -0.304163  ...                -0.185947\n",
              "COLLISIONTYPE_Pedestrian      0.245409  ...                -0.060945\n",
              "COLLISIONTYPE_Rear Ended      0.132352  ...                -0.149803\n",
              "COLLISIONTYPE_Right Turn     -0.025203  ...                -0.040378\n",
              "COLLISIONTYPE_Sideswipe      -0.116652  ...                 1.000000\n",
              "\n",
              "[20 rows x 20 columns]"
            ]
          },
          "metadata": {
            "tags": []
          },
          "execution_count": 35
        }
      ]
    },
    {
      "cell_type": "markdown",
      "metadata": {
        "id": "h5SPh3dG4d3j",
        "colab_type": "text"
      },
      "source": [
        "Doesn't look like it. Let's continue on with our pre-processing."
      ]
    },
    {
      "cell_type": "code",
      "metadata": {
        "id": "vNrq4Hoe4ifl",
        "colab_type": "code",
        "colab": {}
      },
      "source": [
        "df.head()\n",
        "\n",
        "df = pd.get_dummies(df, columns=['ADDRTYPE', 'WEATHER', 'ROADCOND', 'LIGHTCOND', 'SDOT_COLDESC'])"
      ],
      "execution_count": 36,
      "outputs": []
    },
    {
      "cell_type": "code",
      "metadata": {
        "id": "BLsKDCkEFKWG",
        "colab_type": "code",
        "colab": {}
      },
      "source": [
        "df_park = df[['SEVERITYCODE', 'HITPARKEDCAR', 'COLLISIONTYPE_Parked Car']]\n",
        "df_park.corr(method='pearson', min_periods=1)\n",
        "\n",
        "df = df.drop(['HITPARKEDCAR'], axis=1)\n"
      ],
      "execution_count": 37,
      "outputs": []
    },
    {
      "cell_type": "code",
      "metadata": {
        "id": "gF2vfli-ewbi",
        "colab_type": "code",
        "colab": {}
      },
      "source": [
        "df_ped = df[['SEVERITYCODE', 'PEDCOUNT', 'COLLISIONTYPE_Pedestrian']]\n",
        "df_ped.corr(method='pearson', min_periods=1)\n",
        "df = df.drop(['COLLISIONTYPE_Pedestrian'], axis=1)"
      ],
      "execution_count": 38,
      "outputs": []
    },
    {
      "cell_type": "code",
      "metadata": {
        "id": "1dGWGYfmp8Jb",
        "colab_type": "code",
        "colab": {
          "base_uri": "https://localhost:8080/",
          "height": 399
        },
        "outputId": "37c33ee7-6ee4-4f10-f04d-9979ee016e5f"
      },
      "source": [
        "def get_redundant_pairs(df):\n",
        "    '''Get diagonal and lower triangular pairs of correlation matrix'''\n",
        "    pairs_to_drop = set()\n",
        "    cols = df.columns\n",
        "    for i in range(0, df.shape[1]):\n",
        "        for j in range(0, i+1):\n",
        "            pairs_to_drop.add((cols[i], cols[j]))\n",
        "    return pairs_to_drop\n",
        "\n",
        "def get_top_abs_correlations(df, n=5):\n",
        "    au_corr = df.corr().abs().unstack()\n",
        "    labels_to_drop = get_redundant_pairs(df)\n",
        "    au_corr = au_corr.drop(labels=labels_to_drop).sort_values(ascending=False)\n",
        "    return au_corr[0:n]\n",
        "\n",
        "print(\"Top Absolute Correlations\")\n",
        "print(get_top_abs_correlations(df, 20))"
      ],
      "execution_count": 39,
      "outputs": [
        {
          "output_type": "stream",
          "text": [
            "Top Absolute Correlations\n",
            "PEDCYLCOUNT                                                          COLLISIONTYPE_Cycles                                                  0.987660\n",
            "ADDRTYPE_Block                                                       ADDRTYPE_Intersection                                                 0.970016\n",
            "PEDCOUNT                                                             SDOT_COLDESC_MOTOR VEHCILE STRUCK PEDESTRIAN                          0.913476\n",
            "WEATHER_Unknown                                                      ROADCOND_Unknown                                                      0.894020\n",
            "WEATHER_Raining                                                      ROADCOND_Wet                                                          0.767934\n",
            "WEATHER_Clear                                                        ROADCOND_Dry                                                          0.757939\n",
            "ROADCOND_Dry                                                         ROADCOND_Wet                                                          0.756678\n",
            "WEATHER_Unknown                                                      LIGHTCOND_Unknown                                                     0.731206\n",
            "ROADCOND_Unknown                                                     LIGHTCOND_Unknown                                                     0.725501\n",
            "COLLISIONTYPE_Cycles                                                 SDOT_COLDESC_MOTOR VEHICLE STRUCK PEDALCYCLIST, FRONT END AT ANGLE    0.707899\n",
            "PEDCYLCOUNT                                                          SDOT_COLDESC_MOTOR VEHICLE STRUCK PEDALCYCLIST, FRONT END AT ANGLE    0.704711\n",
            "COLLISIONTYPE_Rear Ended                                             SDOT_COLDESC_MOTOR VEHICLE STRUCK MOTOR VEHICLE, REAR END             0.704183\n",
            "LIGHTCOND_Dark - Street Lights On                                    LIGHTCOND_Daylight                                                    0.700666\n",
            "WEATHER_Raining                                                      ROADCOND_Dry                                                          0.585301\n",
            "WEATHER_Snowing                                                      ROADCOND_Snow/Slush                                                   0.572168\n",
            "WEATHER_Clear                                                        ROADCOND_Wet                                                          0.568148\n",
            "SDOT_COLDESC_MOTOR VEHICLE STRUCK MOTOR VEHICLE, FRONT END AT ANGLE  SDOT_COLDESC_MOTOR VEHICLE STRUCK MOTOR VEHICLE, REAR END             0.548789\n",
            "WEATHER_Clear                                                        WEATHER_Raining                                                       0.522553\n",
            "COLLISIONTYPE_Other                                                  SDOT_COLDESC_MOTOR VEHICLE RAN OFF ROAD - HIT FIXED OBJECT            0.504226\n",
            "PEDROWNOTGRNT                                                        SDOT_COLDESC_MOTOR VEHCILE STRUCK PEDESTRIAN                          0.503742\n",
            "dtype: float64\n"
          ],
          "name": "stdout"
        }
      ]
    },
    {
      "cell_type": "code",
      "metadata": {
        "id": "rP9-YNZuwOFa",
        "colab_type": "code",
        "colab": {}
      },
      "source": [
        "df_ped = df[['SEVERITYCODE', 'PEDCOUNT', 'SDOT_COLDESC_MOTOR VEHCILE STRUCK PEDESTRIAN']]\n",
        "df_ped.corr(method='pearson', min_periods=1)\n",
        "df = df.drop(['SDOT_COLDESC_MOTOR VEHCILE STRUCK PEDESTRIAN'], axis=1)"
      ],
      "execution_count": 40,
      "outputs": []
    },
    {
      "cell_type": "code",
      "metadata": {
        "id": "RozMnqUgwEII",
        "colab_type": "code",
        "colab": {}
      },
      "source": [
        "df_cycles = df[['SEVERITYCODE', 'COLLISIONTYPE_Rear Ended', 'SDOT_COLDESC_MOTOR VEHICLE STRUCK MOTOR VEHICLE, REAR END']]\n",
        "df_cycles.corr(method='pearson', min_periods=1)\n",
        "#df = df.drop(['COLLISIONTYPE_Cycles'], axis=1)\n",
        "#df = df.drop(['SDOT_COLDESC_MOTOR VEHICLE STRUCK PEDALCYCLIST, FRONT END AT ANGLE'], axis=1)\n",
        "\n",
        "df = df.drop(['SDOT_COLDESC_MOTOR VEHICLE STRUCK MOTOR VEHICLE, REAR END'], axis=1)"
      ],
      "execution_count": 41,
      "outputs": []
    },
    {
      "cell_type": "code",
      "metadata": {
        "id": "vWwdpaFjiG-s",
        "colab_type": "code",
        "colab": {
          "base_uri": "https://localhost:8080/",
          "height": 202
        },
        "outputId": "a44ca048-b9af-4034-91be-3fb600a43529"
      },
      "source": [
        "df_indicators = df[['SEVERITYCODE', 'INATTENTIONIND', 'UNDERINFL', 'PEDROWNOTGRNT', 'PERSONCOUNT']]\n",
        "df_indicators.corr(method='pearson', min_periods=1)"
      ],
      "execution_count": 42,
      "outputs": [
        {
          "output_type": "execute_result",
          "data": {
            "text/html": [
              "<div>\n",
              "<style scoped>\n",
              "    .dataframe tbody tr th:only-of-type {\n",
              "        vertical-align: middle;\n",
              "    }\n",
              "\n",
              "    .dataframe tbody tr th {\n",
              "        vertical-align: top;\n",
              "    }\n",
              "\n",
              "    .dataframe thead th {\n",
              "        text-align: right;\n",
              "    }\n",
              "</style>\n",
              "<table border=\"1\" class=\"dataframe\">\n",
              "  <thead>\n",
              "    <tr style=\"text-align: right;\">\n",
              "      <th></th>\n",
              "      <th>SEVERITYCODE</th>\n",
              "      <th>INATTENTIONIND</th>\n",
              "      <th>UNDERINFL</th>\n",
              "      <th>PEDROWNOTGRNT</th>\n",
              "      <th>PERSONCOUNT</th>\n",
              "    </tr>\n",
              "  </thead>\n",
              "  <tbody>\n",
              "    <tr>\n",
              "      <th>SEVERITYCODE</th>\n",
              "      <td>1.000000</td>\n",
              "      <td>0.046329</td>\n",
              "      <td>0.044336</td>\n",
              "      <td>0.206269</td>\n",
              "      <td>0.130889</td>\n",
              "    </tr>\n",
              "    <tr>\n",
              "      <th>INATTENTIONIND</th>\n",
              "      <td>0.046329</td>\n",
              "      <td>1.000000</td>\n",
              "      <td>-0.026020</td>\n",
              "      <td>-0.026438</td>\n",
              "      <td>0.077370</td>\n",
              "    </tr>\n",
              "    <tr>\n",
              "      <th>UNDERINFL</th>\n",
              "      <td>0.044336</td>\n",
              "      <td>-0.026020</td>\n",
              "      <td>1.000000</td>\n",
              "      <td>-0.017586</td>\n",
              "      <td>0.022418</td>\n",
              "    </tr>\n",
              "    <tr>\n",
              "      <th>PEDROWNOTGRNT</th>\n",
              "      <td>0.206269</td>\n",
              "      <td>-0.026438</td>\n",
              "      <td>-0.017586</td>\n",
              "      <td>1.000000</td>\n",
              "      <td>-0.027453</td>\n",
              "    </tr>\n",
              "    <tr>\n",
              "      <th>PERSONCOUNT</th>\n",
              "      <td>0.130889</td>\n",
              "      <td>0.077370</td>\n",
              "      <td>0.022418</td>\n",
              "      <td>-0.027453</td>\n",
              "      <td>1.000000</td>\n",
              "    </tr>\n",
              "  </tbody>\n",
              "</table>\n",
              "</div>"
            ],
            "text/plain": [
              "                SEVERITYCODE  INATTENTIONIND  ...  PEDROWNOTGRNT  PERSONCOUNT\n",
              "SEVERITYCODE        1.000000        0.046329  ...       0.206269     0.130889\n",
              "INATTENTIONIND      0.046329        1.000000  ...      -0.026438     0.077370\n",
              "UNDERINFL           0.044336       -0.026020  ...      -0.017586     0.022418\n",
              "PEDROWNOTGRNT       0.206269       -0.026438  ...       1.000000    -0.027453\n",
              "PERSONCOUNT         0.130889        0.077370  ...      -0.027453     1.000000\n",
              "\n",
              "[5 rows x 5 columns]"
            ]
          },
          "metadata": {
            "tags": []
          },
          "execution_count": 42
        }
      ]
    },
    {
      "cell_type": "code",
      "metadata": {
        "id": "PLuAQjzJBsMz",
        "colab_type": "code",
        "colab": {}
      },
      "source": [
        "from sklearn import preprocessing\n",
        "y = df['SEVERITYCODE']\n",
        "\n",
        "X = df.drop(['SEVERITYCODE'], axis=1)\n",
        "\n",
        "X_train, X_test, y_train, y_test = train_test_split( X, y, test_size=0.2, random_state=4)\n",
        "\n",
        "X_train = preprocessing.StandardScaler().fit(X_train).transform(X_train)\n",
        "\n",
        "X_test = preprocessing.StandardScaler().fit(X_test).transform(X_test)"
      ],
      "execution_count": 43,
      "outputs": []
    },
    {
      "cell_type": "code",
      "metadata": {
        "id": "FWqYmqNQBMJb",
        "colab_type": "code",
        "colab": {
          "base_uri": "https://localhost:8080/",
          "height": 176
        },
        "outputId": "060546e6-4ddd-4fbd-e12f-a39996c33a8d"
      },
      "source": [
        "#Logistic Regression\n",
        "\n",
        "clf = LogisticRegression(C=1.0, class_weight=[.701], solver='sag', max_iter=1000)\n",
        "\n",
        "clf.fit(X_train, y_train)\n",
        "LRpred = clf.predict(X_test)\n",
        "\n",
        "f1_LR = f1_score(y_test, LRpred, average='weighted')\n",
        "\n",
        "from sklearn.metrics import jaccard_similarity_score\n",
        "jac_LR = jaccard_similarity_score(y_test, LRpred)\n",
        "\n",
        "LR_conf = confusion_matrix(y_test, LRpred)\n",
        "\n",
        "print(f1_LR, '\\n', jac_LR, '\\n', LR_conf)\n",
        "\n",
        "\n"
      ],
      "execution_count": 44,
      "outputs": [
        {
          "output_type": "stream",
          "text": [
            "0.7292845680052565 \n",
            " 0.7632883750802826 \n",
            " [[26058  1359]\n",
            " [ 7855  3653]]\n"
          ],
          "name": "stdout"
        },
        {
          "output_type": "stream",
          "text": [
            "/usr/local/lib/python3.6/dist-packages/sklearn/linear_model/_sag.py:330: ConvergenceWarning: The max_iter was reached which means the coef_ did not converge\n",
            "  \"the coef_ did not converge\", ConvergenceWarning)\n",
            "/usr/local/lib/python3.6/dist-packages/sklearn/metrics/_classification.py:664: FutureWarning: jaccard_similarity_score has been deprecated and replaced with jaccard_score. It will be removed in version 0.23. This implementation has surprising behavior for binary and multiclass classification tasks.\n",
            "  FutureWarning)\n"
          ],
          "name": "stderr"
        }
      ]
    },
    {
      "cell_type": "code",
      "metadata": {
        "id": "J6YZsWWwFALv",
        "colab_type": "code",
        "colab": {}
      },
      "source": [
        ""
      ],
      "execution_count": null,
      "outputs": []
    },
    {
      "cell_type": "code",
      "metadata": {
        "colab_type": "code",
        "id": "FRFwPJ21FA38",
        "colab": {
          "base_uri": "https://localhost:8080/",
          "height": 141
        },
        "outputId": "bfb54ed7-e279-4feb-f7fc-d5687c59fea7"
      },
      "source": [
        "#Random Forest Classifier\n",
        "\n",
        "clf_rand = RandomForestClassifier(max_depth=2, random_state=0)\n",
        "\n",
        "clf_rand.fit(X_train, y_train)\n",
        "rand_pred = clf_rand.predict(X_test)\n",
        "\n",
        "f1_rand = f1_score(y_test, rand_pred, average='weighted')\n",
        "\n",
        "jac_rand = jaccard_similarity_score(y_test, rand_pred)\n",
        "\n",
        "rand_conf = confusion_matrix(y_test, rand_pred)\n",
        "\n",
        "print(f1_rand, '\\n', jac_rand, '\\n', rand_conf)\n",
        "\n",
        "\n"
      ],
      "execution_count": 46,
      "outputs": [
        {
          "output_type": "stream",
          "text": [
            "0.6523820658754049 \n",
            " 0.7344637122671804 \n",
            " [[27266   151]\n",
            " [10185  1323]]\n"
          ],
          "name": "stdout"
        },
        {
          "output_type": "stream",
          "text": [
            "/usr/local/lib/python3.6/dist-packages/sklearn/metrics/_classification.py:664: FutureWarning: jaccard_similarity_score has been deprecated and replaced with jaccard_score. It will be removed in version 0.23. This implementation has surprising behavior for binary and multiclass classification tasks.\n",
            "  FutureWarning)\n"
          ],
          "name": "stderr"
        }
      ]
    },
    {
      "cell_type": "code",
      "metadata": {
        "id": "F4potSeoHIQo",
        "colab_type": "code",
        "colab": {
          "base_uri": "https://localhost:8080/",
          "height": 141
        },
        "outputId": "fca46b47-c0f4-4315-c281-220441b92602"
      },
      "source": [
        "#Gradient Boost Classifier\n",
        "\n",
        "from sklearn.ensemble import GradientBoostingClassifier\n",
        "\n",
        "clf_grad = GradientBoostingClassifier(random_state=0)\n",
        "\n",
        "clf_grad.fit(X_train, y_train)\n",
        "grad_pred = clf_grad.predict(X_test)\n",
        "\n",
        "f1_grad = f1_score(y_test, grad_pred, average='weighted')\n",
        "\n",
        "jac_grad = jaccard_similarity_score(y_test, rand_pred)\n",
        "\n",
        "grad_conf = confusion_matrix(y_test, grad_pred)\n",
        "\n",
        "print(f1_grad, '\\n', jac_grad, '\\n', grad_conf)\n"
      ],
      "execution_count": 47,
      "outputs": [
        {
          "output_type": "stream",
          "text": [
            "0.729832587875969 \n",
            " 0.7344637122671804 \n",
            " [[26168  1249]\n",
            " [ 7902  3606]]\n"
          ],
          "name": "stdout"
        },
        {
          "output_type": "stream",
          "text": [
            "/usr/local/lib/python3.6/dist-packages/sklearn/metrics/_classification.py:664: FutureWarning: jaccard_similarity_score has been deprecated and replaced with jaccard_score. It will be removed in version 0.23. This implementation has surprising behavior for binary and multiclass classification tasks.\n",
            "  FutureWarning)\n"
          ],
          "name": "stderr"
        }
      ]
    }
  ]
}